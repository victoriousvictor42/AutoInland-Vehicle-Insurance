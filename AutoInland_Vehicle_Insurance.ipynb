{
  "nbformat": 4,
  "nbformat_minor": 0,
  "metadata": {
    "colab": {
      "name": "AutoInland Vehicle Insurance.ipynb",
      "provenance": [],
      "collapsed_sections": []
    },
    "kernelspec": {
      "name": "python3",
      "display_name": "Python 3"
    },
    "language_info": {
      "name": "python"
    }
  },
  "cells": [
    {
      "cell_type": "markdown",
      "metadata": {
        "id": "96n5b_-bz543"
      },
      "source": [
        "# 1. AutoInland Vehicle Insurance\n"
      ]
    },
    {
      "cell_type": "code",
      "metadata": {
        "id": "SQsnLZ-K0A3Z"
      },
      "source": [
        "import pandas as pd\n",
        "import numpy as np\n",
        "import datetime as dt\n",
        "from tqdm.notebook import tqdm_notebook\n",
        "import seaborn as sns\n",
        "import matplotlib.pyplot as plt\n",
        "from sklearn.metrics import f1_score\n",
        "from lightgbm import LGBMClassifier\n",
        "from sklearn.model_selection import train_test_split\n",
        "import warnings\n",
        "warnings.filterwarnings('ignore')"
      ],
      "execution_count": null,
      "outputs": []
    },
    {
      "cell_type": "markdown",
      "metadata": {
        "id": "_ytrpj8z0xp_"
      },
      "source": [
        "#2. Loading the files"
      ]
    },
    {
      "cell_type": "code",
      "metadata": {
        "id": "KYs_kOF00weY"
      },
      "source": [
        "# Load files into a pandas dataframe\n",
        "train = pd.read_csv('Train.csv')\n",
        "test = pd.read_csv('Test.csv')\n",
        "ss = pd.read_csv('SampleSubmission.csv')\n",
        "vd = pd.read_csv('VariableDefinitions.csv')\n",
        "# loading the Nigerian states\n",
        "states = pd.read_csv('NigerianStateNames.csv')"
      ],
      "execution_count": null,
      "outputs": []
    },
    {
      "cell_type": "code",
      "metadata": {
        "colab": {
          "base_uri": "https://localhost:8080/",
          "height": 452
        },
        "id": "sSQ9IwFNkPyc",
        "outputId": "7be3a3db-f44b-4ba5-b1aa-60ca346860b9"
      },
      "source": [
        "vd"
      ],
      "execution_count": null,
      "outputs": [
        {
          "output_type": "execute_result",
          "data": {
            "text/html": [
              "<div>\n",
              "<style scoped>\n",
              "    .dataframe tbody tr th:only-of-type {\n",
              "        vertical-align: middle;\n",
              "    }\n",
              "\n",
              "    .dataframe tbody tr th {\n",
              "        vertical-align: top;\n",
              "    }\n",
              "\n",
              "    .dataframe thead th {\n",
              "        text-align: right;\n",
              "    }\n",
              "</style>\n",
              "<table border=\"1\" class=\"dataframe\">\n",
              "  <thead>\n",
              "    <tr style=\"text-align: right;\">\n",
              "      <th></th>\n",
              "      <th>ID</th>\n",
              "      <th>Unique ID for the customer</th>\n",
              "    </tr>\n",
              "  </thead>\n",
              "  <tbody>\n",
              "    <tr>\n",
              "      <th>0</th>\n",
              "      <td>Policy Start Date</td>\n",
              "      <td>Date policy started</td>\n",
              "    </tr>\n",
              "    <tr>\n",
              "      <th>1</th>\n",
              "      <td>Policy End Date</td>\n",
              "      <td>Date policy ended</td>\n",
              "    </tr>\n",
              "    <tr>\n",
              "      <th>2</th>\n",
              "      <td>Gender</td>\n",
              "      <td>Gender of the customer</td>\n",
              "    </tr>\n",
              "    <tr>\n",
              "      <th>3</th>\n",
              "      <td>Age</td>\n",
              "      <td>Age of the customer</td>\n",
              "    </tr>\n",
              "    <tr>\n",
              "      <th>4</th>\n",
              "      <td>ProductName</td>\n",
              "      <td>Name of Insurance policy</td>\n",
              "    </tr>\n",
              "    <tr>\n",
              "      <th>5</th>\n",
              "      <td>First Transaction Date</td>\n",
              "      <td>First date payment was made</td>\n",
              "    </tr>\n",
              "    <tr>\n",
              "      <th>6</th>\n",
              "      <td>No_Pol</td>\n",
              "      <td>Number of policies the customer has</td>\n",
              "    </tr>\n",
              "    <tr>\n",
              "      <th>7</th>\n",
              "      <td>Car_Category</td>\n",
              "      <td>Type of car</td>\n",
              "    </tr>\n",
              "    <tr>\n",
              "      <th>8</th>\n",
              "      <td>Subject_Car_Colour</td>\n",
              "      <td>Car colour</td>\n",
              "    </tr>\n",
              "    <tr>\n",
              "      <th>9</th>\n",
              "      <td>Subject_Car_Make</td>\n",
              "      <td>Car make</td>\n",
              "    </tr>\n",
              "    <tr>\n",
              "      <th>10</th>\n",
              "      <td>LGA_Name</td>\n",
              "      <td>City where policy was purchased</td>\n",
              "    </tr>\n",
              "    <tr>\n",
              "      <th>11</th>\n",
              "      <td>State</td>\n",
              "      <td>State where policy was purchased</td>\n",
              "    </tr>\n",
              "    <tr>\n",
              "      <th>12</th>\n",
              "      <td>No_of_claims_3_mon_period</td>\n",
              "      <td>Wether the customer claimed within a 3 month p...</td>\n",
              "    </tr>\n",
              "  </tbody>\n",
              "</table>\n",
              "</div>"
            ],
            "text/plain": [
              "                           ID                         Unique ID for the customer\n",
              "0           Policy Start Date                                Date policy started\n",
              "1             Policy End Date                                  Date policy ended\n",
              "2                      Gender                             Gender of the customer\n",
              "3                         Age                                Age of the customer\n",
              "4                 ProductName                           Name of Insurance policy\n",
              "5      First Transaction Date                        First date payment was made\n",
              "6                      No_Pol                Number of policies the customer has\n",
              "7                Car_Category                                        Type of car\n",
              "8          Subject_Car_Colour                                         Car colour\n",
              "9            Subject_Car_Make                                           Car make\n",
              "10                   LGA_Name                    City where policy was purchased\n",
              "11                      State                   State where policy was purchased\n",
              "12  No_of_claims_3_mon_period  Wether the customer claimed within a 3 month p..."
            ]
          },
          "metadata": {
            "tags": []
          },
          "execution_count": 83
        }
      ]
    },
    {
      "cell_type": "markdown",
      "metadata": {
        "id": "0Xf4TvgX3Fgl"
      },
      "source": [
        "# some basic EDA"
      ]
    },
    {
      "cell_type": "code",
      "metadata": {
        "colab": {
          "base_uri": "https://localhost:8080/",
          "height": 343
        },
        "id": "WiGz9EHv1pKU",
        "outputId": "6aaa3737-48b5-470e-b28a-a145c697b285"
      },
      "source": [
        "# Preview the first five rows of the train set\n",
        "train.head()"
      ],
      "execution_count": null,
      "outputs": [
        {
          "output_type": "execute_result",
          "data": {
            "text/html": [
              "<div>\n",
              "<style scoped>\n",
              "    .dataframe tbody tr th:only-of-type {\n",
              "        vertical-align: middle;\n",
              "    }\n",
              "\n",
              "    .dataframe tbody tr th {\n",
              "        vertical-align: top;\n",
              "    }\n",
              "\n",
              "    .dataframe thead th {\n",
              "        text-align: right;\n",
              "    }\n",
              "</style>\n",
              "<table border=\"1\" class=\"dataframe\">\n",
              "  <thead>\n",
              "    <tr style=\"text-align: right;\">\n",
              "      <th></th>\n",
              "      <th>ID</th>\n",
              "      <th>Policy Start Date</th>\n",
              "      <th>Policy End Date</th>\n",
              "      <th>Gender</th>\n",
              "      <th>Age</th>\n",
              "      <th>First Transaction Date</th>\n",
              "      <th>No_Pol</th>\n",
              "      <th>Car_Category</th>\n",
              "      <th>Subject_Car_Colour</th>\n",
              "      <th>Subject_Car_Make</th>\n",
              "      <th>LGA_Name</th>\n",
              "      <th>State</th>\n",
              "      <th>ProductName</th>\n",
              "      <th>target</th>\n",
              "    </tr>\n",
              "  </thead>\n",
              "  <tbody>\n",
              "    <tr>\n",
              "      <th>0</th>\n",
              "      <td>ID_0040R73</td>\n",
              "      <td>2010-05-14</td>\n",
              "      <td>2011-05-13</td>\n",
              "      <td>Male</td>\n",
              "      <td>30</td>\n",
              "      <td>2010-05-14</td>\n",
              "      <td>1</td>\n",
              "      <td>Saloon</td>\n",
              "      <td>Black</td>\n",
              "      <td>TOYOTA</td>\n",
              "      <td>NaN</td>\n",
              "      <td>NaN</td>\n",
              "      <td>Car Classic</td>\n",
              "      <td>0</td>\n",
              "    </tr>\n",
              "    <tr>\n",
              "      <th>1</th>\n",
              "      <td>ID_0046BNK</td>\n",
              "      <td>2010-11-29</td>\n",
              "      <td>2011-11-28</td>\n",
              "      <td>Female</td>\n",
              "      <td>79</td>\n",
              "      <td>2010-11-29</td>\n",
              "      <td>1</td>\n",
              "      <td>JEEP</td>\n",
              "      <td>Grey</td>\n",
              "      <td>TOYOTA</td>\n",
              "      <td>NaN</td>\n",
              "      <td>NaN</td>\n",
              "      <td>Car Classic</td>\n",
              "      <td>1</td>\n",
              "    </tr>\n",
              "    <tr>\n",
              "      <th>2</th>\n",
              "      <td>ID_005QMC3</td>\n",
              "      <td>2010-03-21</td>\n",
              "      <td>2011-03-20</td>\n",
              "      <td>Male</td>\n",
              "      <td>43</td>\n",
              "      <td>2010-03-21</td>\n",
              "      <td>1</td>\n",
              "      <td>Saloon</td>\n",
              "      <td>Red</td>\n",
              "      <td>TOYOTA</td>\n",
              "      <td>NaN</td>\n",
              "      <td>NaN</td>\n",
              "      <td>Car Classic</td>\n",
              "      <td>0</td>\n",
              "    </tr>\n",
              "    <tr>\n",
              "      <th>3</th>\n",
              "      <td>ID_0079OHW</td>\n",
              "      <td>2010-08-21</td>\n",
              "      <td>2011-08-20</td>\n",
              "      <td>Male</td>\n",
              "      <td>2</td>\n",
              "      <td>2010-08-21</td>\n",
              "      <td>1</td>\n",
              "      <td>NaN</td>\n",
              "      <td>NaN</td>\n",
              "      <td>NaN</td>\n",
              "      <td>NaN</td>\n",
              "      <td>NaN</td>\n",
              "      <td>CarSafe</td>\n",
              "      <td>0</td>\n",
              "    </tr>\n",
              "    <tr>\n",
              "      <th>4</th>\n",
              "      <td>ID_00BRP63</td>\n",
              "      <td>2010-08-29</td>\n",
              "      <td>2010-12-31</td>\n",
              "      <td>Entity</td>\n",
              "      <td>20</td>\n",
              "      <td>2010-08-29</td>\n",
              "      <td>3</td>\n",
              "      <td>NaN</td>\n",
              "      <td>NaN</td>\n",
              "      <td>NaN</td>\n",
              "      <td>Lagos</td>\n",
              "      <td>Lagos</td>\n",
              "      <td>Muuve</td>\n",
              "      <td>1</td>\n",
              "    </tr>\n",
              "  </tbody>\n",
              "</table>\n",
              "</div>"
            ],
            "text/plain": [
              "           ID Policy Start Date Policy End Date  ...  State  ProductName target\n",
              "0  ID_0040R73        2010-05-14      2011-05-13  ...    NaN  Car Classic      0\n",
              "1  ID_0046BNK        2010-11-29      2011-11-28  ...    NaN  Car Classic      1\n",
              "2  ID_005QMC3        2010-03-21      2011-03-20  ...    NaN  Car Classic      0\n",
              "3  ID_0079OHW        2010-08-21      2011-08-20  ...    NaN      CarSafe      0\n",
              "4  ID_00BRP63        2010-08-29      2010-12-31  ...  Lagos        Muuve      1\n",
              "\n",
              "[5 rows x 14 columns]"
            ]
          },
          "metadata": {
            "tags": []
          },
          "execution_count": 84
        }
      ]
    },
    {
      "cell_type": "code",
      "metadata": {
        "colab": {
          "base_uri": "https://localhost:8080/",
          "height": 343
        },
        "id": "PfOb9WLaklZ8",
        "outputId": "ff4e69eb-5ee5-4cdc-ddcf-9c616b1ec204"
      },
      "source": [
        "train.tail()"
      ],
      "execution_count": null,
      "outputs": [
        {
          "output_type": "execute_result",
          "data": {
            "text/html": [
              "<div>\n",
              "<style scoped>\n",
              "    .dataframe tbody tr th:only-of-type {\n",
              "        vertical-align: middle;\n",
              "    }\n",
              "\n",
              "    .dataframe tbody tr th {\n",
              "        vertical-align: top;\n",
              "    }\n",
              "\n",
              "    .dataframe thead th {\n",
              "        text-align: right;\n",
              "    }\n",
              "</style>\n",
              "<table border=\"1\" class=\"dataframe\">\n",
              "  <thead>\n",
              "    <tr style=\"text-align: right;\">\n",
              "      <th></th>\n",
              "      <th>ID</th>\n",
              "      <th>Policy Start Date</th>\n",
              "      <th>Policy End Date</th>\n",
              "      <th>Gender</th>\n",
              "      <th>Age</th>\n",
              "      <th>First Transaction Date</th>\n",
              "      <th>No_Pol</th>\n",
              "      <th>Car_Category</th>\n",
              "      <th>Subject_Car_Colour</th>\n",
              "      <th>Subject_Car_Make</th>\n",
              "      <th>LGA_Name</th>\n",
              "      <th>State</th>\n",
              "      <th>ProductName</th>\n",
              "      <th>target</th>\n",
              "    </tr>\n",
              "  </thead>\n",
              "  <tbody>\n",
              "    <tr>\n",
              "      <th>12074</th>\n",
              "      <td>ID_ZZA1SES</td>\n",
              "      <td>2010-05-25</td>\n",
              "      <td>2011-05-24</td>\n",
              "      <td>Female</td>\n",
              "      <td>30</td>\n",
              "      <td>2010-05-25</td>\n",
              "      <td>1</td>\n",
              "      <td>NaN</td>\n",
              "      <td>Black</td>\n",
              "      <td>Range Rover</td>\n",
              "      <td>Ibeju/Lekki</td>\n",
              "      <td>Ibeju-Lekki</td>\n",
              "      <td>Car Classic</td>\n",
              "      <td>1</td>\n",
              "    </tr>\n",
              "    <tr>\n",
              "      <th>12075</th>\n",
              "      <td>ID_ZZDAC3K</td>\n",
              "      <td>2010-10-03</td>\n",
              "      <td>2011-10-02</td>\n",
              "      <td>Female</td>\n",
              "      <td>59</td>\n",
              "      <td>2010-10-03</td>\n",
              "      <td>1</td>\n",
              "      <td>NaN</td>\n",
              "      <td>NaN</td>\n",
              "      <td>NaN</td>\n",
              "      <td>NaN</td>\n",
              "      <td>NaN</td>\n",
              "      <td>Car Classic</td>\n",
              "      <td>0</td>\n",
              "    </tr>\n",
              "    <tr>\n",
              "      <th>12076</th>\n",
              "      <td>ID_ZZIU2XC</td>\n",
              "      <td>2010-10-10</td>\n",
              "      <td>2011-10-08</td>\n",
              "      <td>Male</td>\n",
              "      <td>34</td>\n",
              "      <td>2010-10-10</td>\n",
              "      <td>1</td>\n",
              "      <td>NaN</td>\n",
              "      <td>NaN</td>\n",
              "      <td>NaN</td>\n",
              "      <td>NaN</td>\n",
              "      <td>NaN</td>\n",
              "      <td>CarSafe</td>\n",
              "      <td>0</td>\n",
              "    </tr>\n",
              "    <tr>\n",
              "      <th>12077</th>\n",
              "      <td>ID_ZZRQ1NF</td>\n",
              "      <td>2010-02-27</td>\n",
              "      <td>2011-02-26</td>\n",
              "      <td>NaN</td>\n",
              "      <td>120</td>\n",
              "      <td>2010-02-27</td>\n",
              "      <td>2</td>\n",
              "      <td>NaN</td>\n",
              "      <td>White</td>\n",
              "      <td>TOYOTA</td>\n",
              "      <td>Victoria Island</td>\n",
              "      <td>Lagos</td>\n",
              "      <td>CVTP</td>\n",
              "      <td>0</td>\n",
              "    </tr>\n",
              "    <tr>\n",
              "      <th>12078</th>\n",
              "      <td>ID_ZZWRIIE</td>\n",
              "      <td>2010-07-01</td>\n",
              "      <td>2011-06-30</td>\n",
              "      <td>Female</td>\n",
              "      <td>46</td>\n",
              "      <td>2010-07-01</td>\n",
              "      <td>2</td>\n",
              "      <td>JEEP</td>\n",
              "      <td>Black</td>\n",
              "      <td>Land Rover</td>\n",
              "      <td>Lagos Island</td>\n",
              "      <td>Lagos</td>\n",
              "      <td>Car Classic</td>\n",
              "      <td>0</td>\n",
              "    </tr>\n",
              "  </tbody>\n",
              "</table>\n",
              "</div>"
            ],
            "text/plain": [
              "               ID Policy Start Date  ...  ProductName target\n",
              "12074  ID_ZZA1SES        2010-05-25  ...  Car Classic      1\n",
              "12075  ID_ZZDAC3K        2010-10-03  ...  Car Classic      0\n",
              "12076  ID_ZZIU2XC        2010-10-10  ...      CarSafe      0\n",
              "12077  ID_ZZRQ1NF        2010-02-27  ...         CVTP      0\n",
              "12078  ID_ZZWRIIE        2010-07-01  ...  Car Classic      0\n",
              "\n",
              "[5 rows x 14 columns]"
            ]
          },
          "metadata": {
            "tags": []
          },
          "execution_count": 85
        }
      ]
    },
    {
      "cell_type": "code",
      "metadata": {
        "colab": {
          "base_uri": "https://localhost:8080/",
          "height": 343
        },
        "id": "RfnzXfDu3TXg",
        "outputId": "3596db0a-0f9f-4784-b5e0-1ae6dd515967"
      },
      "source": [
        "# Preview the first five rows of the test set\n",
        "test.head()"
      ],
      "execution_count": null,
      "outputs": [
        {
          "output_type": "execute_result",
          "data": {
            "text/html": [
              "<div>\n",
              "<style scoped>\n",
              "    .dataframe tbody tr th:only-of-type {\n",
              "        vertical-align: middle;\n",
              "    }\n",
              "\n",
              "    .dataframe tbody tr th {\n",
              "        vertical-align: top;\n",
              "    }\n",
              "\n",
              "    .dataframe thead th {\n",
              "        text-align: right;\n",
              "    }\n",
              "</style>\n",
              "<table border=\"1\" class=\"dataframe\">\n",
              "  <thead>\n",
              "    <tr style=\"text-align: right;\">\n",
              "      <th></th>\n",
              "      <th>ID</th>\n",
              "      <th>Policy Start Date</th>\n",
              "      <th>Policy End Date</th>\n",
              "      <th>Gender</th>\n",
              "      <th>Age</th>\n",
              "      <th>First Transaction Date</th>\n",
              "      <th>No_Pol</th>\n",
              "      <th>Car_Category</th>\n",
              "      <th>Subject_Car_Colour</th>\n",
              "      <th>Subject_Car_Make</th>\n",
              "      <th>LGA_Name</th>\n",
              "      <th>State</th>\n",
              "      <th>ProductName</th>\n",
              "    </tr>\n",
              "  </thead>\n",
              "  <tbody>\n",
              "    <tr>\n",
              "      <th>0</th>\n",
              "      <td>ID_009D84L</td>\n",
              "      <td>2010-04-24</td>\n",
              "      <td>2011-03-27</td>\n",
              "      <td>NO GENDER</td>\n",
              "      <td>25</td>\n",
              "      <td>2010-04-24</td>\n",
              "      <td>1</td>\n",
              "      <td>NaN</td>\n",
              "      <td>As Attached</td>\n",
              "      <td>Iveco</td>\n",
              "      <td>Victoria Island</td>\n",
              "      <td>Lagos</td>\n",
              "      <td>CVTP</td>\n",
              "    </tr>\n",
              "    <tr>\n",
              "      <th>1</th>\n",
              "      <td>ID_01DO2EQ</td>\n",
              "      <td>2010-01-01</td>\n",
              "      <td>2010-12-31</td>\n",
              "      <td>NaN</td>\n",
              "      <td>120</td>\n",
              "      <td>2010-01-01</td>\n",
              "      <td>4</td>\n",
              "      <td>NaN</td>\n",
              "      <td>As Attached</td>\n",
              "      <td>TOYOTA</td>\n",
              "      <td>Victoria Island</td>\n",
              "      <td>Lagos</td>\n",
              "      <td>Muuve</td>\n",
              "    </tr>\n",
              "    <tr>\n",
              "      <th>2</th>\n",
              "      <td>ID_01QM0NU</td>\n",
              "      <td>2010-10-23</td>\n",
              "      <td>2011-10-22</td>\n",
              "      <td>Female</td>\n",
              "      <td>46</td>\n",
              "      <td>2010-10-23</td>\n",
              "      <td>1</td>\n",
              "      <td>NaN</td>\n",
              "      <td>NaN</td>\n",
              "      <td>Ford</td>\n",
              "      <td>Abuja Municipal</td>\n",
              "      <td>Abuja-Municipal</td>\n",
              "      <td>Car Classic</td>\n",
              "    </tr>\n",
              "    <tr>\n",
              "      <th>3</th>\n",
              "      <td>ID_024NJLZ</td>\n",
              "      <td>2010-10-14</td>\n",
              "      <td>2011-10-13</td>\n",
              "      <td>Male</td>\n",
              "      <td>32</td>\n",
              "      <td>2010-10-14</td>\n",
              "      <td>1</td>\n",
              "      <td>NaN</td>\n",
              "      <td>NaN</td>\n",
              "      <td>NaN</td>\n",
              "      <td>Kosofe</td>\n",
              "      <td>Benue</td>\n",
              "      <td>Car Classic</td>\n",
              "    </tr>\n",
              "    <tr>\n",
              "      <th>4</th>\n",
              "      <td>ID_02BYET3</td>\n",
              "      <td>2010-09-16</td>\n",
              "      <td>2010-12-31</td>\n",
              "      <td>NaN</td>\n",
              "      <td>120</td>\n",
              "      <td>2010-09-16</td>\n",
              "      <td>4</td>\n",
              "      <td>NaN</td>\n",
              "      <td>NaN</td>\n",
              "      <td>TOYOTA</td>\n",
              "      <td>Victoria Island</td>\n",
              "      <td>Lagos</td>\n",
              "      <td>Muuve</td>\n",
              "    </tr>\n",
              "  </tbody>\n",
              "</table>\n",
              "</div>"
            ],
            "text/plain": [
              "           ID Policy Start Date  ...            State  ProductName\n",
              "0  ID_009D84L        2010-04-24  ...            Lagos         CVTP\n",
              "1  ID_01DO2EQ        2010-01-01  ...            Lagos        Muuve\n",
              "2  ID_01QM0NU        2010-10-23  ...  Abuja-Municipal  Car Classic\n",
              "3  ID_024NJLZ        2010-10-14  ...            Benue  Car Classic\n",
              "4  ID_02BYET3        2010-09-16  ...            Lagos        Muuve\n",
              "\n",
              "[5 rows x 13 columns]"
            ]
          },
          "metadata": {
            "tags": []
          },
          "execution_count": 86
        }
      ]
    },
    {
      "cell_type": "code",
      "metadata": {
        "colab": {
          "base_uri": "https://localhost:8080/",
          "height": 204
        },
        "id": "k-4gQWq43gGW",
        "outputId": "25ee1822-9b7a-4204-b7fc-bdb181e37da0"
      },
      "source": [
        "# Preview ther first five rows of the sample submission file\n",
        "ss.head()"
      ],
      "execution_count": null,
      "outputs": [
        {
          "output_type": "execute_result",
          "data": {
            "text/html": [
              "<div>\n",
              "<style scoped>\n",
              "    .dataframe tbody tr th:only-of-type {\n",
              "        vertical-align: middle;\n",
              "    }\n",
              "\n",
              "    .dataframe tbody tr th {\n",
              "        vertical-align: top;\n",
              "    }\n",
              "\n",
              "    .dataframe thead th {\n",
              "        text-align: right;\n",
              "    }\n",
              "</style>\n",
              "<table border=\"1\" class=\"dataframe\">\n",
              "  <thead>\n",
              "    <tr style=\"text-align: right;\">\n",
              "      <th></th>\n",
              "      <th>ID</th>\n",
              "      <th>target</th>\n",
              "    </tr>\n",
              "  </thead>\n",
              "  <tbody>\n",
              "    <tr>\n",
              "      <th>0</th>\n",
              "      <td>ID_009D84L</td>\n",
              "      <td>0</td>\n",
              "    </tr>\n",
              "    <tr>\n",
              "      <th>1</th>\n",
              "      <td>ID_01DO2EQ</td>\n",
              "      <td>0</td>\n",
              "    </tr>\n",
              "    <tr>\n",
              "      <th>2</th>\n",
              "      <td>ID_01QM0NU</td>\n",
              "      <td>0</td>\n",
              "    </tr>\n",
              "    <tr>\n",
              "      <th>3</th>\n",
              "      <td>ID_024NJLZ</td>\n",
              "      <td>0</td>\n",
              "    </tr>\n",
              "    <tr>\n",
              "      <th>4</th>\n",
              "      <td>ID_02BYET3</td>\n",
              "      <td>0</td>\n",
              "    </tr>\n",
              "  </tbody>\n",
              "</table>\n",
              "</div>"
            ],
            "text/plain": [
              "           ID  target\n",
              "0  ID_009D84L       0\n",
              "1  ID_01DO2EQ       0\n",
              "2  ID_01QM0NU       0\n",
              "3  ID_024NJLZ       0\n",
              "4  ID_02BYET3       0"
            ]
          },
          "metadata": {
            "tags": []
          },
          "execution_count": 87
        }
      ]
    },
    {
      "cell_type": "code",
      "metadata": {
        "colab": {
          "base_uri": "https://localhost:8080/"
        },
        "id": "J3W-Wlrn3wjG",
        "outputId": "d0ed7a7d-d542-401a-9534-1f44a49d7870"
      },
      "source": [
        "# Check the shape of the train and test sets\n",
        "print(f'The shape of the train set is: {train.shape}\\nThe shape of the test set is: {test.shape}')"
      ],
      "execution_count": null,
      "outputs": [
        {
          "output_type": "stream",
          "text": [
            "The shape of the train set is: (12079, 14)\n",
            "The shape of the test set is: (5177, 13)\n"
          ],
          "name": "stdout"
        }
      ]
    },
    {
      "cell_type": "code",
      "metadata": {
        "colab": {
          "base_uri": "https://localhost:8080/"
        },
        "id": "LW7c0u7vVMqr",
        "outputId": "3af749c5-cbe4-482d-d1c3-aabe8114a2bd"
      },
      "source": [
        "train.info()"
      ],
      "execution_count": null,
      "outputs": [
        {
          "output_type": "stream",
          "text": [
            "<class 'pandas.core.frame.DataFrame'>\n",
            "RangeIndex: 12079 entries, 0 to 12078\n",
            "Data columns (total 14 columns):\n",
            " #   Column                  Non-Null Count  Dtype \n",
            "---  ------                  --------------  ----- \n",
            " 0   ID                      12079 non-null  object\n",
            " 1   Policy Start Date       12079 non-null  object\n",
            " 2   Policy End Date         12079 non-null  object\n",
            " 3   Gender                  11720 non-null  object\n",
            " 4   Age                     12079 non-null  int64 \n",
            " 5   First Transaction Date  12079 non-null  object\n",
            " 6   No_Pol                  12079 non-null  int64 \n",
            " 7   Car_Category            8341 non-null   object\n",
            " 8   Subject_Car_Colour      5117 non-null   object\n",
            " 9   Subject_Car_Make        9603 non-null   object\n",
            " 10  LGA_Name                5603 non-null   object\n",
            " 11  State                   5591 non-null   object\n",
            " 12  ProductName             12079 non-null  object\n",
            " 13  target                  12079 non-null  int64 \n",
            "dtypes: int64(3), object(11)\n",
            "memory usage: 1.3+ MB\n"
          ],
          "name": "stdout"
        }
      ]
    },
    {
      "cell_type": "code",
      "metadata": {
        "colab": {
          "base_uri": "https://localhost:8080/",
          "height": 461
        },
        "id": "w-wplYGMVSLZ",
        "outputId": "ca771f97-9e71-4ca4-8a7a-3d7b3884ed7d"
      },
      "source": [
        "train.describe(include=\"all\")"
      ],
      "execution_count": null,
      "outputs": [
        {
          "output_type": "execute_result",
          "data": {
            "text/html": [
              "<div>\n",
              "<style scoped>\n",
              "    .dataframe tbody tr th:only-of-type {\n",
              "        vertical-align: middle;\n",
              "    }\n",
              "\n",
              "    .dataframe tbody tr th {\n",
              "        vertical-align: top;\n",
              "    }\n",
              "\n",
              "    .dataframe thead th {\n",
              "        text-align: right;\n",
              "    }\n",
              "</style>\n",
              "<table border=\"1\" class=\"dataframe\">\n",
              "  <thead>\n",
              "    <tr style=\"text-align: right;\">\n",
              "      <th></th>\n",
              "      <th>ID</th>\n",
              "      <th>Policy Start Date</th>\n",
              "      <th>Policy End Date</th>\n",
              "      <th>Gender</th>\n",
              "      <th>Age</th>\n",
              "      <th>First Transaction Date</th>\n",
              "      <th>No_Pol</th>\n",
              "      <th>Car_Category</th>\n",
              "      <th>Subject_Car_Colour</th>\n",
              "      <th>Subject_Car_Make</th>\n",
              "      <th>LGA_Name</th>\n",
              "      <th>State</th>\n",
              "      <th>ProductName</th>\n",
              "      <th>target</th>\n",
              "    </tr>\n",
              "  </thead>\n",
              "  <tbody>\n",
              "    <tr>\n",
              "      <th>count</th>\n",
              "      <td>12079</td>\n",
              "      <td>12079</td>\n",
              "      <td>12079</td>\n",
              "      <td>11720</td>\n",
              "      <td>12079.000000</td>\n",
              "      <td>12079</td>\n",
              "      <td>12079.000000</td>\n",
              "      <td>8341</td>\n",
              "      <td>5117</td>\n",
              "      <td>9603</td>\n",
              "      <td>5603</td>\n",
              "      <td>5591</td>\n",
              "      <td>12079</td>\n",
              "      <td>12079.000000</td>\n",
              "    </tr>\n",
              "    <tr>\n",
              "      <th>unique</th>\n",
              "      <td>12079</td>\n",
              "      <td>376</td>\n",
              "      <td>372</td>\n",
              "      <td>7</td>\n",
              "      <td>NaN</td>\n",
              "      <td>376</td>\n",
              "      <td>NaN</td>\n",
              "      <td>16</td>\n",
              "      <td>45</td>\n",
              "      <td>74</td>\n",
              "      <td>258</td>\n",
              "      <td>111</td>\n",
              "      <td>9</td>\n",
              "      <td>NaN</td>\n",
              "    </tr>\n",
              "    <tr>\n",
              "      <th>top</th>\n",
              "      <td>ID_5X93TAP</td>\n",
              "      <td>2010-03-27</td>\n",
              "      <td>2010-12-31</td>\n",
              "      <td>Male</td>\n",
              "      <td>NaN</td>\n",
              "      <td>2010-03-27</td>\n",
              "      <td>NaN</td>\n",
              "      <td>Saloon</td>\n",
              "      <td>Black</td>\n",
              "      <td>TOYOTA</td>\n",
              "      <td>Victoria Island</td>\n",
              "      <td>Lagos</td>\n",
              "      <td>Car Classic</td>\n",
              "      <td>NaN</td>\n",
              "    </tr>\n",
              "    <tr>\n",
              "      <th>freq</th>\n",
              "      <td>1</td>\n",
              "      <td>89</td>\n",
              "      <td>169</td>\n",
              "      <td>7617</td>\n",
              "      <td>NaN</td>\n",
              "      <td>89</td>\n",
              "      <td>NaN</td>\n",
              "      <td>6034</td>\n",
              "      <td>1880</td>\n",
              "      <td>4975</td>\n",
              "      <td>1162</td>\n",
              "      <td>3186</td>\n",
              "      <td>6485</td>\n",
              "      <td>NaN</td>\n",
              "    </tr>\n",
              "    <tr>\n",
              "      <th>mean</th>\n",
              "      <td>NaN</td>\n",
              "      <td>NaN</td>\n",
              "      <td>NaN</td>\n",
              "      <td>NaN</td>\n",
              "      <td>42.234539</td>\n",
              "      <td>NaN</td>\n",
              "      <td>1.307227</td>\n",
              "      <td>NaN</td>\n",
              "      <td>NaN</td>\n",
              "      <td>NaN</td>\n",
              "      <td>NaN</td>\n",
              "      <td>NaN</td>\n",
              "      <td>NaN</td>\n",
              "      <td>0.120457</td>\n",
              "    </tr>\n",
              "    <tr>\n",
              "      <th>std</th>\n",
              "      <td>NaN</td>\n",
              "      <td>NaN</td>\n",
              "      <td>NaN</td>\n",
              "      <td>NaN</td>\n",
              "      <td>97.492565</td>\n",
              "      <td>NaN</td>\n",
              "      <td>0.733085</td>\n",
              "      <td>NaN</td>\n",
              "      <td>NaN</td>\n",
              "      <td>NaN</td>\n",
              "      <td>NaN</td>\n",
              "      <td>NaN</td>\n",
              "      <td>NaN</td>\n",
              "      <td>0.325509</td>\n",
              "    </tr>\n",
              "    <tr>\n",
              "      <th>min</th>\n",
              "      <td>NaN</td>\n",
              "      <td>NaN</td>\n",
              "      <td>NaN</td>\n",
              "      <td>NaN</td>\n",
              "      <td>-6099.000000</td>\n",
              "      <td>NaN</td>\n",
              "      <td>1.000000</td>\n",
              "      <td>NaN</td>\n",
              "      <td>NaN</td>\n",
              "      <td>NaN</td>\n",
              "      <td>NaN</td>\n",
              "      <td>NaN</td>\n",
              "      <td>NaN</td>\n",
              "      <td>0.000000</td>\n",
              "    </tr>\n",
              "    <tr>\n",
              "      <th>25%</th>\n",
              "      <td>NaN</td>\n",
              "      <td>NaN</td>\n",
              "      <td>NaN</td>\n",
              "      <td>NaN</td>\n",
              "      <td>35.000000</td>\n",
              "      <td>NaN</td>\n",
              "      <td>1.000000</td>\n",
              "      <td>NaN</td>\n",
              "      <td>NaN</td>\n",
              "      <td>NaN</td>\n",
              "      <td>NaN</td>\n",
              "      <td>NaN</td>\n",
              "      <td>NaN</td>\n",
              "      <td>0.000000</td>\n",
              "    </tr>\n",
              "    <tr>\n",
              "      <th>50%</th>\n",
              "      <td>NaN</td>\n",
              "      <td>NaN</td>\n",
              "      <td>NaN</td>\n",
              "      <td>NaN</td>\n",
              "      <td>41.000000</td>\n",
              "      <td>NaN</td>\n",
              "      <td>1.000000</td>\n",
              "      <td>NaN</td>\n",
              "      <td>NaN</td>\n",
              "      <td>NaN</td>\n",
              "      <td>NaN</td>\n",
              "      <td>NaN</td>\n",
              "      <td>NaN</td>\n",
              "      <td>0.000000</td>\n",
              "    </tr>\n",
              "    <tr>\n",
              "      <th>75%</th>\n",
              "      <td>NaN</td>\n",
              "      <td>NaN</td>\n",
              "      <td>NaN</td>\n",
              "      <td>NaN</td>\n",
              "      <td>50.000000</td>\n",
              "      <td>NaN</td>\n",
              "      <td>1.000000</td>\n",
              "      <td>NaN</td>\n",
              "      <td>NaN</td>\n",
              "      <td>NaN</td>\n",
              "      <td>NaN</td>\n",
              "      <td>NaN</td>\n",
              "      <td>NaN</td>\n",
              "      <td>0.000000</td>\n",
              "    </tr>\n",
              "    <tr>\n",
              "      <th>max</th>\n",
              "      <td>NaN</td>\n",
              "      <td>NaN</td>\n",
              "      <td>NaN</td>\n",
              "      <td>NaN</td>\n",
              "      <td>320.000000</td>\n",
              "      <td>NaN</td>\n",
              "      <td>10.000000</td>\n",
              "      <td>NaN</td>\n",
              "      <td>NaN</td>\n",
              "      <td>NaN</td>\n",
              "      <td>NaN</td>\n",
              "      <td>NaN</td>\n",
              "      <td>NaN</td>\n",
              "      <td>1.000000</td>\n",
              "    </tr>\n",
              "  </tbody>\n",
              "</table>\n",
              "</div>"
            ],
            "text/plain": [
              "                ID Policy Start Date  ...  ProductName        target\n",
              "count        12079             12079  ...        12079  12079.000000\n",
              "unique       12079               376  ...            9           NaN\n",
              "top     ID_5X93TAP        2010-03-27  ...  Car Classic           NaN\n",
              "freq             1                89  ...         6485           NaN\n",
              "mean           NaN               NaN  ...          NaN      0.120457\n",
              "std            NaN               NaN  ...          NaN      0.325509\n",
              "min            NaN               NaN  ...          NaN      0.000000\n",
              "25%            NaN               NaN  ...          NaN      0.000000\n",
              "50%            NaN               NaN  ...          NaN      0.000000\n",
              "75%            NaN               NaN  ...          NaN      0.000000\n",
              "max            NaN               NaN  ...          NaN      1.000000\n",
              "\n",
              "[11 rows x 14 columns]"
            ]
          },
          "metadata": {
            "tags": []
          },
          "execution_count": 90
        }
      ]
    },
    {
      "cell_type": "code",
      "metadata": {
        "colab": {
          "base_uri": "https://localhost:8080/"
        },
        "id": "sOaOLzAtWDTM",
        "outputId": "d0d38ed4-8356-48cd-efbf-6628c70b2775"
      },
      "source": [
        "test.info()"
      ],
      "execution_count": null,
      "outputs": [
        {
          "output_type": "stream",
          "text": [
            "<class 'pandas.core.frame.DataFrame'>\n",
            "RangeIndex: 5177 entries, 0 to 5176\n",
            "Data columns (total 13 columns):\n",
            " #   Column                  Non-Null Count  Dtype \n",
            "---  ------                  --------------  ----- \n",
            " 0   ID                      5177 non-null   object\n",
            " 1   Policy Start Date       5177 non-null   object\n",
            " 2   Policy End Date         5177 non-null   object\n",
            " 3   Gender                  5021 non-null   object\n",
            " 4   Age                     5177 non-null   int64 \n",
            " 5   First Transaction Date  5177 non-null   object\n",
            " 6   No_Pol                  5177 non-null   int64 \n",
            " 7   Car_Category            3539 non-null   object\n",
            " 8   Subject_Car_Colour      2172 non-null   object\n",
            " 9   Subject_Car_Make        4116 non-null   object\n",
            " 10  LGA_Name                2395 non-null   object\n",
            " 11  State                   2389 non-null   object\n",
            " 12  ProductName             5177 non-null   object\n",
            "dtypes: int64(2), object(11)\n",
            "memory usage: 525.9+ KB\n"
          ],
          "name": "stdout"
        }
      ]
    },
    {
      "cell_type": "code",
      "metadata": {
        "colab": {
          "base_uri": "https://localhost:8080/",
          "height": 461
        },
        "id": "dMn-aBVeWHGK",
        "outputId": "0b8d46b8-59dd-4ebd-e1c9-cc48533bf854"
      },
      "source": [
        "test.describe(include=\"all\")"
      ],
      "execution_count": null,
      "outputs": [
        {
          "output_type": "execute_result",
          "data": {
            "text/html": [
              "<div>\n",
              "<style scoped>\n",
              "    .dataframe tbody tr th:only-of-type {\n",
              "        vertical-align: middle;\n",
              "    }\n",
              "\n",
              "    .dataframe tbody tr th {\n",
              "        vertical-align: top;\n",
              "    }\n",
              "\n",
              "    .dataframe thead th {\n",
              "        text-align: right;\n",
              "    }\n",
              "</style>\n",
              "<table border=\"1\" class=\"dataframe\">\n",
              "  <thead>\n",
              "    <tr style=\"text-align: right;\">\n",
              "      <th></th>\n",
              "      <th>ID</th>\n",
              "      <th>Policy Start Date</th>\n",
              "      <th>Policy End Date</th>\n",
              "      <th>Gender</th>\n",
              "      <th>Age</th>\n",
              "      <th>First Transaction Date</th>\n",
              "      <th>No_Pol</th>\n",
              "      <th>Car_Category</th>\n",
              "      <th>Subject_Car_Colour</th>\n",
              "      <th>Subject_Car_Make</th>\n",
              "      <th>LGA_Name</th>\n",
              "      <th>State</th>\n",
              "      <th>ProductName</th>\n",
              "    </tr>\n",
              "  </thead>\n",
              "  <tbody>\n",
              "    <tr>\n",
              "      <th>count</th>\n",
              "      <td>5177</td>\n",
              "      <td>5177</td>\n",
              "      <td>5177</td>\n",
              "      <td>5021</td>\n",
              "      <td>5177.000000</td>\n",
              "      <td>5177</td>\n",
              "      <td>5177.000000</td>\n",
              "      <td>3539</td>\n",
              "      <td>2172</td>\n",
              "      <td>4116</td>\n",
              "      <td>2395</td>\n",
              "      <td>2389</td>\n",
              "      <td>5177</td>\n",
              "    </tr>\n",
              "    <tr>\n",
              "      <th>unique</th>\n",
              "      <td>5177</td>\n",
              "      <td>356</td>\n",
              "      <td>363</td>\n",
              "      <td>7</td>\n",
              "      <td>NaN</td>\n",
              "      <td>356</td>\n",
              "      <td>NaN</td>\n",
              "      <td>14</td>\n",
              "      <td>37</td>\n",
              "      <td>53</td>\n",
              "      <td>193</td>\n",
              "      <td>81</td>\n",
              "      <td>9</td>\n",
              "    </tr>\n",
              "    <tr>\n",
              "      <th>top</th>\n",
              "      <td>ID_Y1Y5CPS</td>\n",
              "      <td>2010-03-27</td>\n",
              "      <td>2010-12-31</td>\n",
              "      <td>Male</td>\n",
              "      <td>NaN</td>\n",
              "      <td>2010-03-27</td>\n",
              "      <td>NaN</td>\n",
              "      <td>Saloon</td>\n",
              "      <td>Black</td>\n",
              "      <td>TOYOTA</td>\n",
              "      <td>Victoria Island</td>\n",
              "      <td>Lagos</td>\n",
              "      <td>Car Classic</td>\n",
              "    </tr>\n",
              "    <tr>\n",
              "      <th>freq</th>\n",
              "      <td>1</td>\n",
              "      <td>39</td>\n",
              "      <td>81</td>\n",
              "      <td>3271</td>\n",
              "      <td>NaN</td>\n",
              "      <td>39</td>\n",
              "      <td>NaN</td>\n",
              "      <td>2578</td>\n",
              "      <td>788</td>\n",
              "      <td>2124</td>\n",
              "      <td>507</td>\n",
              "      <td>1364</td>\n",
              "      <td>2779</td>\n",
              "    </tr>\n",
              "    <tr>\n",
              "      <th>mean</th>\n",
              "      <td>NaN</td>\n",
              "      <td>NaN</td>\n",
              "      <td>NaN</td>\n",
              "      <td>NaN</td>\n",
              "      <td>43.710257</td>\n",
              "      <td>NaN</td>\n",
              "      <td>1.308287</td>\n",
              "      <td>NaN</td>\n",
              "      <td>NaN</td>\n",
              "      <td>NaN</td>\n",
              "      <td>NaN</td>\n",
              "      <td>NaN</td>\n",
              "      <td>NaN</td>\n",
              "    </tr>\n",
              "    <tr>\n",
              "      <th>std</th>\n",
              "      <td>NaN</td>\n",
              "      <td>NaN</td>\n",
              "      <td>NaN</td>\n",
              "      <td>NaN</td>\n",
              "      <td>22.439018</td>\n",
              "      <td>NaN</td>\n",
              "      <td>0.712004</td>\n",
              "      <td>NaN</td>\n",
              "      <td>NaN</td>\n",
              "      <td>NaN</td>\n",
              "      <td>NaN</td>\n",
              "      <td>NaN</td>\n",
              "      <td>NaN</td>\n",
              "    </tr>\n",
              "    <tr>\n",
              "      <th>min</th>\n",
              "      <td>NaN</td>\n",
              "      <td>NaN</td>\n",
              "      <td>NaN</td>\n",
              "      <td>NaN</td>\n",
              "      <td>-76.000000</td>\n",
              "      <td>NaN</td>\n",
              "      <td>1.000000</td>\n",
              "      <td>NaN</td>\n",
              "      <td>NaN</td>\n",
              "      <td>NaN</td>\n",
              "      <td>NaN</td>\n",
              "      <td>NaN</td>\n",
              "      <td>NaN</td>\n",
              "    </tr>\n",
              "    <tr>\n",
              "      <th>25%</th>\n",
              "      <td>NaN</td>\n",
              "      <td>NaN</td>\n",
              "      <td>NaN</td>\n",
              "      <td>NaN</td>\n",
              "      <td>34.000000</td>\n",
              "      <td>NaN</td>\n",
              "      <td>1.000000</td>\n",
              "      <td>NaN</td>\n",
              "      <td>NaN</td>\n",
              "      <td>NaN</td>\n",
              "      <td>NaN</td>\n",
              "      <td>NaN</td>\n",
              "      <td>NaN</td>\n",
              "    </tr>\n",
              "    <tr>\n",
              "      <th>50%</th>\n",
              "      <td>NaN</td>\n",
              "      <td>NaN</td>\n",
              "      <td>NaN</td>\n",
              "      <td>NaN</td>\n",
              "      <td>40.000000</td>\n",
              "      <td>NaN</td>\n",
              "      <td>1.000000</td>\n",
              "      <td>NaN</td>\n",
              "      <td>NaN</td>\n",
              "      <td>NaN</td>\n",
              "      <td>NaN</td>\n",
              "      <td>NaN</td>\n",
              "      <td>NaN</td>\n",
              "    </tr>\n",
              "    <tr>\n",
              "      <th>75%</th>\n",
              "      <td>NaN</td>\n",
              "      <td>NaN</td>\n",
              "      <td>NaN</td>\n",
              "      <td>NaN</td>\n",
              "      <td>50.000000</td>\n",
              "      <td>NaN</td>\n",
              "      <td>1.000000</td>\n",
              "      <td>NaN</td>\n",
              "      <td>NaN</td>\n",
              "      <td>NaN</td>\n",
              "      <td>NaN</td>\n",
              "      <td>NaN</td>\n",
              "      <td>NaN</td>\n",
              "    </tr>\n",
              "    <tr>\n",
              "      <th>max</th>\n",
              "      <td>NaN</td>\n",
              "      <td>NaN</td>\n",
              "      <td>NaN</td>\n",
              "      <td>NaN</td>\n",
              "      <td>320.000000</td>\n",
              "      <td>NaN</td>\n",
              "      <td>10.000000</td>\n",
              "      <td>NaN</td>\n",
              "      <td>NaN</td>\n",
              "      <td>NaN</td>\n",
              "      <td>NaN</td>\n",
              "      <td>NaN</td>\n",
              "      <td>NaN</td>\n",
              "    </tr>\n",
              "  </tbody>\n",
              "</table>\n",
              "</div>"
            ],
            "text/plain": [
              "                ID Policy Start Date  ...  State  ProductName\n",
              "count         5177              5177  ...   2389         5177\n",
              "unique        5177               356  ...     81            9\n",
              "top     ID_Y1Y5CPS        2010-03-27  ...  Lagos  Car Classic\n",
              "freq             1                39  ...   1364         2779\n",
              "mean           NaN               NaN  ...    NaN          NaN\n",
              "std            NaN               NaN  ...    NaN          NaN\n",
              "min            NaN               NaN  ...    NaN          NaN\n",
              "25%            NaN               NaN  ...    NaN          NaN\n",
              "50%            NaN               NaN  ...    NaN          NaN\n",
              "75%            NaN               NaN  ...    NaN          NaN\n",
              "max            NaN               NaN  ...    NaN          NaN\n",
              "\n",
              "[11 rows x 13 columns]"
            ]
          },
          "metadata": {
            "tags": []
          },
          "execution_count": 92
        }
      ]
    },
    {
      "cell_type": "markdown",
      "metadata": {
        "id": "QnxebrfXWM_j"
      },
      "source": [
        "#Checking for missing data"
      ]
    },
    {
      "cell_type": "code",
      "metadata": {
        "colab": {
          "base_uri": "https://localhost:8080/",
          "height": 446
        },
        "id": "XJIF4T504LOF",
        "outputId": "3f33f64a-18d8-4e36-e671-31e4854dfb8a"
      },
      "source": [
        "# Check if there is any missing values in the train set\n",
        "ax = train.isna().sum().sort_values().plot(kind = 'barh', figsize = (10, 7))\n",
        "plt.title('Percentage of Missing Values Per Column in Train Set', fontdict={'size':15})\n",
        "for p in ax.patches:\n",
        "  percentage = '{:,.1f}%'.format((p.get_width()/train.shape[0])*100)\n",
        "  width, height = p.get_width(), p.get_height()\n",
        "  x = p.get_x() + width + 0.02\n",
        "  y = p.get_y() + height/2\n",
        "  ax.annotate(percentage, (x,y))"
      ],
      "execution_count": null,
      "outputs": [
        {
          "output_type": "display_data",
          "data": {
            "image/png": "[encoded data removed]",
            "text/plain": [
              "<Figure size 720x504 with 1 Axes>"
            ]
          },
          "metadata": {
            "tags": [],
            "needs_background": "light"
          }
        }
      ]
    },
    {
      "cell_type": "code",
      "metadata": {
        "colab": {
          "base_uri": "https://localhost:8080/",
          "height": 446
        },
        "id": "Dwqpi6dc62Bc",
        "outputId": "e3fb3a94-fa10-4bac-f3e0-d306364a1f10"
      },
      "source": [
        "# checking if there is missing values in test set\n",
        "ax = test.isna().sum().sort_values().plot(kind = 'barh', figsize = (10, 7))\n",
        "plt.title('Percentage of Missing Values Per Column in Test Set', fontdict={'size':15})\n",
        "\n",
        "for p in ax.patches:\n",
        "  percentage = '{:,.1f}%'.format((p.get_width()/test.shape[0])*100) \n",
        "  width, height = p.get_width(), p.get_height()\n",
        "  x = p.get_x()+width+0.02\n",
        "  y = p.get_y()+height/2\n",
        "  ax.annotate(percentage, (x,y))"
      ],
      "execution_count": null,
      "outputs": [
        {
          "output_type": "display_data",
          "data": {
            "image/png": "[encoded data removed]",
            "text/plain": [
              "<Figure size 720x504 with 1 Axes>"
            ]
          },
          "metadata": {
            "tags": [],
            "needs_background": "light"
          }
        }
      ]
    },
    {
      "cell_type": "markdown",
      "metadata": {
        "id": "UwkhKuCq87aJ"
      },
      "source": [
        "# Combine train and test set for easy preprocessing\n"
      ]
    },
    {
      "cell_type": "code",
      "metadata": {
        "colab": {
          "base_uri": "https://localhost:8080/"
        },
        "id": "KeTyetPg82GZ",
        "outputId": "9f9d374f-7d65-4ea0-d39c-f36d33ee53e4"
      },
      "source": [
        "# Combine train and test set\n",
        "ntrain = train.shape[0]  # to be used to split train and test set from the combined dataframe\n",
        "\n",
        "all_data = pd.concat((train, test)).reset_index(drop=True)\n",
        "print(f'The shape of the combinned dataframe is: {all_data.shape}')"
      ],
      "execution_count": null,
      "outputs": [
        {
          "output_type": "stream",
          "text": [
            "The shape of the combinned dataframe is: (17256, 14)\n"
          ],
          "name": "stdout"
        }
      ]
    },
    {
      "cell_type": "code",
      "metadata": {
        "colab": {
          "base_uri": "https://localhost:8080/",
          "height": 343
        },
        "id": "Ia-Fo6PF91MY",
        "outputId": "bd128d44-dd12-46e7-bd69-30d36c5e2fe4"
      },
      "source": [
        "# Preview the last five rows of the combined dataframe\n",
        "all_data.tail()"
      ],
      "execution_count": null,
      "outputs": [
        {
          "output_type": "execute_result",
          "data": {
            "text/html": [
              "<div>\n",
              "<style scoped>\n",
              "    .dataframe tbody tr th:only-of-type {\n",
              "        vertical-align: middle;\n",
              "    }\n",
              "\n",
              "    .dataframe tbody tr th {\n",
              "        vertical-align: top;\n",
              "    }\n",
              "\n",
              "    .dataframe thead th {\n",
              "        text-align: right;\n",
              "    }\n",
              "</style>\n",
              "<table border=\"1\" class=\"dataframe\">\n",
              "  <thead>\n",
              "    <tr style=\"text-align: right;\">\n",
              "      <th></th>\n",
              "      <th>ID</th>\n",
              "      <th>Policy Start Date</th>\n",
              "      <th>Policy End Date</th>\n",
              "      <th>Gender</th>\n",
              "      <th>Age</th>\n",
              "      <th>First Transaction Date</th>\n",
              "      <th>No_Pol</th>\n",
              "      <th>Car_Category</th>\n",
              "      <th>Subject_Car_Colour</th>\n",
              "      <th>Subject_Car_Make</th>\n",
              "      <th>LGA_Name</th>\n",
              "      <th>State</th>\n",
              "      <th>ProductName</th>\n",
              "      <th>target</th>\n",
              "    </tr>\n",
              "  </thead>\n",
              "  <tbody>\n",
              "    <tr>\n",
              "      <th>17251</th>\n",
              "      <td>ID_ZYXX5AF</td>\n",
              "      <td>2010-07-18</td>\n",
              "      <td>2011-07-17</td>\n",
              "      <td>Male</td>\n",
              "      <td>48</td>\n",
              "      <td>2010-07-18</td>\n",
              "      <td>1</td>\n",
              "      <td>Saloon</td>\n",
              "      <td>NaN</td>\n",
              "      <td>Honda</td>\n",
              "      <td>NaN</td>\n",
              "      <td>NaN</td>\n",
              "      <td>CarSafe</td>\n",
              "      <td>NaN</td>\n",
              "    </tr>\n",
              "    <tr>\n",
              "      <th>17252</th>\n",
              "      <td>ID_ZYYOZ5L</td>\n",
              "      <td>2010-12-04</td>\n",
              "      <td>2011-12-03</td>\n",
              "      <td>NaN</td>\n",
              "      <td>50</td>\n",
              "      <td>2010-12-04</td>\n",
              "      <td>1</td>\n",
              "      <td>NaN</td>\n",
              "      <td>NaN</td>\n",
              "      <td>NaN</td>\n",
              "      <td>Victoria Island</td>\n",
              "      <td>Lagos</td>\n",
              "      <td>Car Classic</td>\n",
              "      <td>NaN</td>\n",
              "    </tr>\n",
              "    <tr>\n",
              "      <th>17253</th>\n",
              "      <td>ID_ZZ1GTKD</td>\n",
              "      <td>2010-09-24</td>\n",
              "      <td>2011-09-23</td>\n",
              "      <td>Male</td>\n",
              "      <td>1</td>\n",
              "      <td>2010-09-24</td>\n",
              "      <td>1</td>\n",
              "      <td>NaN</td>\n",
              "      <td>NaN</td>\n",
              "      <td>NaN</td>\n",
              "      <td>NaN</td>\n",
              "      <td>NaN</td>\n",
              "      <td>CarSafe</td>\n",
              "      <td>NaN</td>\n",
              "    </tr>\n",
              "    <tr>\n",
              "      <th>17254</th>\n",
              "      <td>ID_ZZDXQSI</td>\n",
              "      <td>2010-07-17</td>\n",
              "      <td>2011-07-16</td>\n",
              "      <td>Female</td>\n",
              "      <td>52</td>\n",
              "      <td>2010-07-17</td>\n",
              "      <td>1</td>\n",
              "      <td>Saloon</td>\n",
              "      <td>Grey</td>\n",
              "      <td>TOYOTA</td>\n",
              "      <td>NaN</td>\n",
              "      <td>NaN</td>\n",
              "      <td>Car Classic</td>\n",
              "      <td>NaN</td>\n",
              "    </tr>\n",
              "    <tr>\n",
              "      <th>17255</th>\n",
              "      <td>ID_ZZYTLV1</td>\n",
              "      <td>2010-07-17</td>\n",
              "      <td>2011-07-16</td>\n",
              "      <td>Male</td>\n",
              "      <td>68</td>\n",
              "      <td>2010-07-17</td>\n",
              "      <td>1</td>\n",
              "      <td>Saloon</td>\n",
              "      <td>NaN</td>\n",
              "      <td>Peugeot</td>\n",
              "      <td>NaN</td>\n",
              "      <td>NaN</td>\n",
              "      <td>CarSafe</td>\n",
              "      <td>NaN</td>\n",
              "    </tr>\n",
              "  </tbody>\n",
              "</table>\n",
              "</div>"
            ],
            "text/plain": [
              "               ID Policy Start Date Policy End Date  ...  State  ProductName target\n",
              "17251  ID_ZYXX5AF        2010-07-18      2011-07-17  ...    NaN      CarSafe    NaN\n",
              "17252  ID_ZYYOZ5L        2010-12-04      2011-12-03  ...  Lagos  Car Classic    NaN\n",
              "17253  ID_ZZ1GTKD        2010-09-24      2011-09-23  ...    NaN      CarSafe    NaN\n",
              "17254  ID_ZZDXQSI        2010-07-17      2011-07-16  ...    NaN  Car Classic    NaN\n",
              "17255  ID_ZZYTLV1        2010-07-17      2011-07-16  ...    NaN      CarSafe    NaN\n",
              "\n",
              "[5 rows x 14 columns]"
            ]
          },
          "metadata": {
            "tags": []
          },
          "execution_count": 96
        }
      ]
    },
    {
      "cell_type": "code",
      "metadata": {
        "colab": {
          "base_uri": "https://localhost:8080/"
        },
        "id": "S67eGHdP-GcL",
        "outputId": "f62070c7-6f8f-4a36-fe86-273747d0d6ef"
      },
      "source": [
        "# Check the column names and datatypes\n",
        "all_data.info()"
      ],
      "execution_count": null,
      "outputs": [
        {
          "output_type": "stream",
          "text": [
            "<class 'pandas.core.frame.DataFrame'>\n",
            "RangeIndex: 17256 entries, 0 to 17255\n",
            "Data columns (total 14 columns):\n",
            " #   Column                  Non-Null Count  Dtype  \n",
            "---  ------                  --------------  -----  \n",
            " 0   ID                      17256 non-null  object \n",
            " 1   Policy Start Date       17256 non-null  object \n",
            " 2   Policy End Date         17256 non-null  object \n",
            " 3   Gender                  16741 non-null  object \n",
            " 4   Age                     17256 non-null  int64  \n",
            " 5   First Transaction Date  17256 non-null  object \n",
            " 6   No_Pol                  17256 non-null  int64  \n",
            " 7   Car_Category            11880 non-null  object \n",
            " 8   Subject_Car_Colour      7289 non-null   object \n",
            " 9   Subject_Car_Make        13719 non-null  object \n",
            " 10  LGA_Name                7998 non-null   object \n",
            " 11  State                   7980 non-null   object \n",
            " 12  ProductName             17256 non-null  object \n",
            " 13  target                  12079 non-null  float64\n",
            "dtypes: float64(1), int64(2), object(11)\n",
            "memory usage: 1.8+ MB\n"
          ],
          "name": "stdout"
        }
      ]
    },
    {
      "cell_type": "code",
      "metadata": {
        "colab": {
          "base_uri": "https://localhost:8080/",
          "height": 643
        },
        "id": "z5a8_K2p-Q6z",
        "outputId": "6a106971-b917-4098-d21e-30738e5f0907"
      },
      "source": [
        "# change each column to its appropriate datatype\n",
        "date_cols = [col for col in all_data.columns if 'Date' in col]\n",
        "num_cols = ['Age', 'No_Pol']\n",
        "cat_cols = [col for col in all_data.columns if col not in date_cols+num_cols+['ID', 'target']]\n",
        "\n",
        "for col in all_data.columns:\n",
        "  if col in date_cols:\n",
        "    all_data[col] = pd.to_datetime(all_data[col])\n",
        "  elif col in cat_cols:\n",
        "    all_data[col] = all_data[col].astype('category')\n",
        "\n",
        "# Confirm whether the changes have been applied successfully\n",
        "all_data\n"
      ],
      "execution_count": null,
      "outputs": [
        {
          "output_type": "execute_result",
          "data": {
            "text/html": [
              "<div>\n",
              "<style scoped>\n",
              "    .dataframe tbody tr th:only-of-type {\n",
              "        vertical-align: middle;\n",
              "    }\n",
              "\n",
              "    .dataframe tbody tr th {\n",
              "        vertical-align: top;\n",
              "    }\n",
              "\n",
              "    .dataframe thead th {\n",
              "        text-align: right;\n",
              "    }\n",
              "</style>\n",
              "<table border=\"1\" class=\"dataframe\">\n",
              "  <thead>\n",
              "    <tr style=\"text-align: right;\">\n",
              "      <th></th>\n",
              "      <th>ID</th>\n",
              "      <th>Policy Start Date</th>\n",
              "      <th>Policy End Date</th>\n",
              "      <th>Gender</th>\n",
              "      <th>Age</th>\n",
              "      <th>First Transaction Date</th>\n",
              "      <th>No_Pol</th>\n",
              "      <th>Car_Category</th>\n",
              "      <th>Subject_Car_Colour</th>\n",
              "      <th>Subject_Car_Make</th>\n",
              "      <th>LGA_Name</th>\n",
              "      <th>State</th>\n",
              "      <th>ProductName</th>\n",
              "      <th>target</th>\n",
              "    </tr>\n",
              "  </thead>\n",
              "  <tbody>\n",
              "    <tr>\n",
              "      <th>0</th>\n",
              "      <td>ID_0040R73</td>\n",
              "      <td>2010-05-14</td>\n",
              "      <td>2011-05-13</td>\n",
              "      <td>Male</td>\n",
              "      <td>30</td>\n",
              "      <td>2010-05-14</td>\n",
              "      <td>1</td>\n",
              "      <td>Saloon</td>\n",
              "      <td>Black</td>\n",
              "      <td>TOYOTA</td>\n",
              "      <td>NaN</td>\n",
              "      <td>NaN</td>\n",
              "      <td>Car Classic</td>\n",
              "      <td>0.0</td>\n",
              "    </tr>\n",
              "    <tr>\n",
              "      <th>1</th>\n",
              "      <td>ID_0046BNK</td>\n",
              "      <td>2010-11-29</td>\n",
              "      <td>2011-11-28</td>\n",
              "      <td>Female</td>\n",
              "      <td>79</td>\n",
              "      <td>2010-11-29</td>\n",
              "      <td>1</td>\n",
              "      <td>JEEP</td>\n",
              "      <td>Grey</td>\n",
              "      <td>TOYOTA</td>\n",
              "      <td>NaN</td>\n",
              "      <td>NaN</td>\n",
              "      <td>Car Classic</td>\n",
              "      <td>1.0</td>\n",
              "    </tr>\n",
              "    <tr>\n",
              "      <th>2</th>\n",
              "      <td>ID_005QMC3</td>\n",
              "      <td>2010-03-21</td>\n",
              "      <td>2011-03-20</td>\n",
              "      <td>Male</td>\n",
              "      <td>43</td>\n",
              "      <td>2010-03-21</td>\n",
              "      <td>1</td>\n",
              "      <td>Saloon</td>\n",
              "      <td>Red</td>\n",
              "      <td>TOYOTA</td>\n",
              "      <td>NaN</td>\n",
              "      <td>NaN</td>\n",
              "      <td>Car Classic</td>\n",
              "      <td>0.0</td>\n",
              "    </tr>\n",
              "    <tr>\n",
              "      <th>3</th>\n",
              "      <td>ID_0079OHW</td>\n",
              "      <td>2010-08-21</td>\n",
              "      <td>2011-08-20</td>\n",
              "      <td>Male</td>\n",
              "      <td>2</td>\n",
              "      <td>2010-08-21</td>\n",
              "      <td>1</td>\n",
              "      <td>NaN</td>\n",
              "      <td>NaN</td>\n",
              "      <td>NaN</td>\n",
              "      <td>NaN</td>\n",
              "      <td>NaN</td>\n",
              "      <td>CarSafe</td>\n",
              "      <td>0.0</td>\n",
              "    </tr>\n",
              "    <tr>\n",
              "      <th>4</th>\n",
              "      <td>ID_00BRP63</td>\n",
              "      <td>2010-08-29</td>\n",
              "      <td>2010-12-31</td>\n",
              "      <td>Entity</td>\n",
              "      <td>20</td>\n",
              "      <td>2010-08-29</td>\n",
              "      <td>3</td>\n",
              "      <td>NaN</td>\n",
              "      <td>NaN</td>\n",
              "      <td>NaN</td>\n",
              "      <td>Lagos</td>\n",
              "      <td>Lagos</td>\n",
              "      <td>Muuve</td>\n",
              "      <td>1.0</td>\n",
              "    </tr>\n",
              "    <tr>\n",
              "      <th>...</th>\n",
              "      <td>...</td>\n",
              "      <td>...</td>\n",
              "      <td>...</td>\n",
              "      <td>...</td>\n",
              "      <td>...</td>\n",
              "      <td>...</td>\n",
              "      <td>...</td>\n",
              "      <td>...</td>\n",
              "      <td>...</td>\n",
              "      <td>...</td>\n",
              "      <td>...</td>\n",
              "      <td>...</td>\n",
              "      <td>...</td>\n",
              "      <td>...</td>\n",
              "    </tr>\n",
              "    <tr>\n",
              "      <th>17251</th>\n",
              "      <td>ID_ZYXX5AF</td>\n",
              "      <td>2010-07-18</td>\n",
              "      <td>2011-07-17</td>\n",
              "      <td>Male</td>\n",
              "      <td>48</td>\n",
              "      <td>2010-07-18</td>\n",
              "      <td>1</td>\n",
              "      <td>Saloon</td>\n",
              "      <td>NaN</td>\n",
              "      <td>Honda</td>\n",
              "      <td>NaN</td>\n",
              "      <td>NaN</td>\n",
              "      <td>CarSafe</td>\n",
              "      <td>NaN</td>\n",
              "    </tr>\n",
              "    <tr>\n",
              "      <th>17252</th>\n",
              "      <td>ID_ZYYOZ5L</td>\n",
              "      <td>2010-12-04</td>\n",
              "      <td>2011-12-03</td>\n",
              "      <td>NaN</td>\n",
              "      <td>50</td>\n",
              "      <td>2010-12-04</td>\n",
              "      <td>1</td>\n",
              "      <td>NaN</td>\n",
              "      <td>NaN</td>\n",
              "      <td>NaN</td>\n",
              "      <td>Victoria Island</td>\n",
              "      <td>Lagos</td>\n",
              "      <td>Car Classic</td>\n",
              "      <td>NaN</td>\n",
              "    </tr>\n",
              "    <tr>\n",
              "      <th>17253</th>\n",
              "      <td>ID_ZZ1GTKD</td>\n",
              "      <td>2010-09-24</td>\n",
              "      <td>2011-09-23</td>\n",
              "      <td>Male</td>\n",
              "      <td>1</td>\n",
              "      <td>2010-09-24</td>\n",
              "      <td>1</td>\n",
              "      <td>NaN</td>\n",
              "      <td>NaN</td>\n",
              "      <td>NaN</td>\n",
              "      <td>NaN</td>\n",
              "      <td>NaN</td>\n",
              "      <td>CarSafe</td>\n",
              "      <td>NaN</td>\n",
              "    </tr>\n",
              "    <tr>\n",
              "      <th>17254</th>\n",
              "      <td>ID_ZZDXQSI</td>\n",
              "      <td>2010-07-17</td>\n",
              "      <td>2011-07-16</td>\n",
              "      <td>Female</td>\n",
              "      <td>52</td>\n",
              "      <td>2010-07-17</td>\n",
              "      <td>1</td>\n",
              "      <td>Saloon</td>\n",
              "      <td>Grey</td>\n",
              "      <td>TOYOTA</td>\n",
              "      <td>NaN</td>\n",
              "      <td>NaN</td>\n",
              "      <td>Car Classic</td>\n",
              "      <td>NaN</td>\n",
              "    </tr>\n",
              "    <tr>\n",
              "      <th>17255</th>\n",
              "      <td>ID_ZZYTLV1</td>\n",
              "      <td>2010-07-17</td>\n",
              "      <td>2011-07-16</td>\n",
              "      <td>Male</td>\n",
              "      <td>68</td>\n",
              "      <td>2010-07-17</td>\n",
              "      <td>1</td>\n",
              "      <td>Saloon</td>\n",
              "      <td>NaN</td>\n",
              "      <td>Peugeot</td>\n",
              "      <td>NaN</td>\n",
              "      <td>NaN</td>\n",
              "      <td>CarSafe</td>\n",
              "      <td>NaN</td>\n",
              "    </tr>\n",
              "  </tbody>\n",
              "</table>\n",
              "<p>17256 rows × 14 columns</p>\n",
              "</div>"
            ],
            "text/plain": [
              "               ID Policy Start Date Policy End Date  ...  State  ProductName target\n",
              "0      ID_0040R73        2010-05-14      2011-05-13  ...    NaN  Car Classic    0.0\n",
              "1      ID_0046BNK        2010-11-29      2011-11-28  ...    NaN  Car Classic    1.0\n",
              "2      ID_005QMC3        2010-03-21      2011-03-20  ...    NaN  Car Classic    0.0\n",
              "3      ID_0079OHW        2010-08-21      2011-08-20  ...    NaN      CarSafe    0.0\n",
              "4      ID_00BRP63        2010-08-29      2010-12-31  ...  Lagos        Muuve    1.0\n",
              "...           ...               ...             ...  ...    ...          ...    ...\n",
              "17251  ID_ZYXX5AF        2010-07-18      2011-07-17  ...    NaN      CarSafe    NaN\n",
              "17252  ID_ZYYOZ5L        2010-12-04      2011-12-03  ...  Lagos  Car Classic    NaN\n",
              "17253  ID_ZZ1GTKD        2010-09-24      2011-09-23  ...    NaN      CarSafe    NaN\n",
              "17254  ID_ZZDXQSI        2010-07-17      2011-07-16  ...    NaN  Car Classic    NaN\n",
              "17255  ID_ZZYTLV1        2010-07-17      2011-07-16  ...    NaN      CarSafe    NaN\n",
              "\n",
              "[17256 rows x 14 columns]"
            ]
          },
          "metadata": {
            "tags": []
          },
          "execution_count": 98
        }
      ]
    },
    {
      "cell_type": "code",
      "metadata": {
        "id": "qCsq7tN4h8EY"
      },
      "source": [
        ""
      ],
      "execution_count": null,
      "outputs": []
    },
    {
      "cell_type": "markdown",
      "metadata": {
        "id": "PllbD9HUAUsK"
      },
      "source": [
        "# 5. Distribution of the target variable\n"
      ]
    },
    {
      "cell_type": "code",
      "metadata": {
        "colab": {
          "base_uri": "https://localhost:8080/",
          "height": 313
        },
        "id": "J0ueRbj4AD_K",
        "outputId": "6317eec1-a874-4b22-df40-fb50f50a1144"
      },
      "source": [
        "sns.countplot(train.target)\n",
        "plt.title('Target Distribution', fontdict={'size':14})"
      ],
      "execution_count": null,
      "outputs": [
        {
          "output_type": "execute_result",
          "data": {
            "text/plain": [
              "Text(0.5, 1.0, 'Target Distribution')"
            ]
          },
          "metadata": {
            "tags": []
          },
          "execution_count": 99
        },
        {
          "output_type": "display_data",
          "data": {
            "image/png": "[encoded data removed]",
            "text/plain": [
              "<Figure size 432x288 with 1 Axes>"
            ]
          },
          "metadata": {
            "tags": [],
            "needs_background": "light"
          }
        }
      ]
    },
    {
      "cell_type": "markdown",
      "metadata": {
        "id": "acDQWMSWAsu2"
      },
      "source": [
        "# Distribution of the gender column"
      ]
    },
    {
      "cell_type": "code",
      "metadata": {
        "colab": {
          "base_uri": "https://localhost:8080/",
          "height": 446
        },
        "id": "me8ve5XxAmp1",
        "outputId": "d4c11daa-ad1f-4831-e8f6-920433cad4c0"
      },
      "source": [
        "ax = all_data.Gender.value_counts().sort_values().plot(kind = 'barh', figsize= (10,7))\n",
        "plt.title('Gender Distribution', fontdict={'size': 15})\n",
        "for p in ax.patches:\n",
        "  percentage = '{:,.1f}%'.format((p.get_width()/all_data.shape[0])*100)\n",
        "  width, height = p.get_width(), p.get_height()\n",
        "  x = p.get_x()+width+0.02\n",
        "  y = p.get_y()+height/2\n",
        "  ax.annotate(percentage,(x,y))"
      ],
      "execution_count": null,
      "outputs": [
        {
          "output_type": "display_data",
          "data": {
            "image/png": "[encoded data removed]",
            "text/plain": [
              "<Figure size 720x504 with 1 Axes>"
            ]
          },
          "metadata": {
            "tags": [],
            "needs_background": "light"
          }
        }
      ]
    },
    {
      "cell_type": "code",
      "metadata": {
        "colab": {
          "base_uri": "https://localhost:8080/"
        },
        "id": "C7rRAP3FCM9D",
        "outputId": "c4169fb7-5804-4675-eccd-130b81ac3d07"
      },
      "source": [
        "mapper = {'Entity':'Other', 'Joint Gender':'Other', 'NOT STATED':'Other', 'NO GENDER':'Other', 'SEX':\"Other\"}\n",
        "all_data.Gender = all_data.Gender.replace(mapper)\n",
        "\n",
        "# Confirm mappings\n",
        "all_data.Gender.value_counts()"
      ],
      "execution_count": null,
      "outputs": [
        {
          "output_type": "execute_result",
          "data": {
            "text/plain": [
              "Male      10888\n",
              "Female     4735\n",
              "Other      1118\n",
              "Name: Gender, dtype: int64"
            ]
          },
          "metadata": {
            "tags": []
          },
          "execution_count": 101
        }
      ]
    },
    {
      "cell_type": "markdown",
      "metadata": {
        "id": "md2QXKWtDWke"
      },
      "source": [
        "# Number of unique values per categorical columns"
      ]
    },
    {
      "cell_type": "code",
      "metadata": {
        "colab": {
          "base_uri": "https://localhost:8080/"
        },
        "id": "1qJl3qy-DRsf",
        "outputId": "74612782-c05b-45db-a206-bcf9f9ada214"
      },
      "source": [
        "# Check for unique values for each categorical column\n",
        "for col in cat_cols:\n",
        "  print(col)\n",
        "  print(all_data[col].unique(), '\\n')"
      ],
      "execution_count": null,
      "outputs": [
        {
          "output_type": "stream",
          "text": [
            "Gender\n",
            "['Male' 'Female' 'Other' nan] \n",
            "\n",
            "Car_Category\n",
            "['Saloon', 'JEEP', NaN, 'Motorcycle', 'Truck', ..., 'Wagon', 'Shape Of Vehicle Chasis', 'Sedan', 'Station 4 Wheel', 'Tipper Truck']\n",
            "Length: 17\n",
            "Categories (16, object): ['Saloon', 'JEEP', 'Motorcycle', 'Truck', ..., 'Shape Of Vehicle Chasis',\n",
            "                          'Sedan', 'Station 4 Wheel', 'Tipper Truck'] \n",
            "\n",
            "Subject_Car_Colour\n",
            "['Black', 'Grey', 'Red', NaN, 'As Attached', ..., 'Yellow & White', 'Beige Mitalic', 'Light Gray', 'Blue Sky', 'Red Maroon']\n",
            "Length: 47\n",
            "Categories (46, object): ['Black', 'Grey', 'Red', 'As Attached', ..., 'Beige Mitalic',\n",
            "                          'Light Gray', 'Blue Sky', 'Red Maroon'] \n",
            "\n",
            "Subject_Car_Make\n",
            "['TOYOTA', NaN, 'REXTON', 'Lexus', 'Hyundai', ..., 'BRILLIANCE', 'Buik', 'COMMANDER', 'Bajaj', 'Datsun']\n",
            "Length: 76\n",
            "Categories (75, object): ['TOYOTA', 'REXTON', 'Lexus', 'Hyundai', ..., 'Buik', 'COMMANDER', 'Bajaj',\n",
            "                          'Datsun'] \n",
            "\n",
            "LGA_Name\n",
            "[NaN, 'Lagos', 'Ikeja', 'Badagry', 'Eti-Osa', ..., 'Hong', 'Ifako-Agege', 'Benue', 'Okpokwu', 'Ngor-Okpala']\n",
            "Length: 271\n",
            "Categories (270, object): ['Lagos', 'Ikeja', 'Badagry', 'Eti-Osa', ..., 'Ifako-Agege', 'Benue',\n",
            "                           'Okpokwu', 'Ngor-Okpala'] \n",
            "\n",
            "State\n",
            "[NaN, 'Lagos', 'Benue', 'Eti-Osa', 'Delta', ..., 'ENUGU-SOUTH', 'Ijebu-North', 'Asari-Toru', 'Idemili-south', 'Ngor-Okpala']\n",
            "Length: 114\n",
            "Categories (113, object): ['Lagos', 'Benue', 'Eti-Osa', 'Delta', ..., 'Ijebu-North', 'Asari-Toru',\n",
            "                           'Idemili-south', 'Ngor-Okpala'] \n",
            "\n",
            "ProductName\n",
            "['Car Classic', 'CarSafe', 'Muuve', 'CVTP', 'Car Plus', 'Motor Cycle', 'Customized Motor', 'CarFlex', 'Car Vintage']\n",
            "Categories (9, object): ['Car Classic', 'CarSafe', 'Muuve', 'CVTP', ..., 'Motor Cycle',\n",
            "                         'Customized Motor', 'CarFlex', 'Car Vintage'] \n",
            "\n"
          ],
          "name": "stdout"
        }
      ]
    },
    {
      "cell_type": "markdown",
      "metadata": {
        "id": "cYDcyUc2EFgo"
      },
      "source": [
        "# Filling in missing values\n",
        "\n",
        "Missing values can be filled using different strategies\n",
        "Tips:\n",
        "\n",
        "\n",
        "\n",
        "\n",
        "*   Mean\n",
        "*   Max\n",
        "*   Min\n",
        "*   sklearn SimpleImputer\n",
        "*   Others... do more research\n",
        "\n",
        "\n",
        "\n",
        "\n",
        "*   List item\n",
        "\n",
        "\n",
        "\n",
        "\n"
      ]
    },
    {
      "cell_type": "code",
      "metadata": {
        "colab": {
          "base_uri": "https://localhost:8080/"
        },
        "id": "MhBjMbRsjH0J",
        "outputId": "13e15a1b-68db-4193-85df-46f372debd83"
      },
      "source": [
        "# Fill in missing values\n",
        "# For cat cols and date cols fill in with mode and for num cols fill in with 9999\n",
        "for col in all_data.columns:\n",
        "  if col in date_cols+cat_cols:\n",
        "    all_data[col] = all_data[col].fillna(all_data[col].mode()[0])\n",
        "  elif col in num_cols:\n",
        "    all_data[col] = all_data[col].fillna(all_data[col].mean())\n",
        "\n",
        "# Confirm that there aren't any missing values\n",
        "all_data[all_data.columns.difference(['target'])].isna().sum()"
      ],
      "execution_count": null,
      "outputs": [
        {
          "output_type": "execute_result",
          "data": {
            "text/plain": [
              "Age                       0\n",
              "Car_Category              0\n",
              "First Transaction Date    0\n",
              "Gender                    0\n",
              "ID                        0\n",
              "LGA_Name                  0\n",
              "No_Pol                    0\n",
              "Policy End Date           0\n",
              "Policy Start Date         0\n",
              "ProductName               0\n",
              "State                     0\n",
              "Subject_Car_Colour        0\n",
              "Subject_Car_Make          0\n",
              "dtype: int64"
            ]
          },
          "metadata": {
            "tags": []
          },
          "execution_count": 103
        }
      ]
    },
    {
      "cell_type": "markdown",
      "metadata": {
        "id": "nodlvP0zGepc"
      },
      "source": [
        "Feature Engineering\n",
        "A lot of features can be extracted from dates\n",
        "Tips:\n",
        "\n",
        "\n",
        "*   Quarterly, Start of Year, month\n",
        "*   Is it a weekend, weekday\n",
        "*   Is it holiday?\n",
        "*   Duration between different periods, e.g start and end of a policy\n",
        "*   What feature can be derived from the age column\n",
        "*   Be creative\n",
        "\n"
      ]
    },
    {
      "cell_type": "markdown",
      "metadata": {
        "id": "vMvUcWdHNpaR"
      },
      "source": [
        "# Checking for outliers"
      ]
    },
    {
      "cell_type": "code",
      "metadata": {
        "id": "Eaps4dSzNpCZ"
      },
      "source": [
        "#sns.boxplot(all_data.Age)"
      ],
      "execution_count": null,
      "outputs": []
    },
    {
      "cell_type": "code",
      "metadata": {
        "id": "ilo55JaqPG7R"
      },
      "source": [
        "#df[(np.abs(stats.zscore(df)) < 3).all(axis=1)]"
      ],
      "execution_count": null,
      "outputs": []
    },
    {
      "cell_type": "code",
      "metadata": {
        "id": "qu9yMMlcNnc0"
      },
      "source": [
        "# removing outliers using z-score\n",
        "# from scipy import stats\n",
        "# all_data = all_data[(np.abs(stats.zscore(all_data.Age)) < 3)]"
      ],
      "execution_count": null,
      "outputs": []
    },
    {
      "cell_type": "code",
      "metadata": {
        "id": "Hh87VJLKQcm6"
      },
      "source": [
        "# sns.boxplot(all_data.Age)"
      ],
      "execution_count": null,
      "outputs": []
    },
    {
      "cell_type": "code",
      "metadata": {
        "id": "7WldpcozRfjI"
      },
      "source": [
        "# all_data.Age.plot(kind='hist')"
      ],
      "execution_count": null,
      "outputs": []
    },
    {
      "cell_type": "markdown",
      "metadata": {
        "id": "1XqhNj7xTHwW"
      },
      "source": [
        "sns.boxplot(all_data.No_Pol)"
      ]
    },
    {
      "cell_type": "code",
      "metadata": {
        "colab": {
          "base_uri": "https://localhost:8080/"
        },
        "id": "PYdQLHUcKbWt",
        "outputId": "9f236491-576b-4e90-a0bf-8ae01c1e9f44"
      },
      "source": [
        "all_data.columns"
      ],
      "execution_count": null,
      "outputs": [
        {
          "output_type": "execute_result",
          "data": {
            "text/plain": [
              "Index(['ID', 'Policy Start Date', 'Policy End Date', 'Gender', 'Age',\n",
              "       'First Transaction Date', 'No_Pol', 'Car_Category',\n",
              "       'Subject_Car_Colour', 'Subject_Car_Make', 'LGA_Name', 'State',\n",
              "       'ProductName', 'target'],\n",
              "      dtype='object')"
            ]
          },
          "metadata": {
            "tags": []
          },
          "execution_count": 109
        }
      ]
    },
    {
      "cell_type": "markdown",
      "metadata": {
        "id": "F8D3baIWXV5C"
      },
      "source": [
        "extracting duration feature from policy start and end dates"
      ]
    },
    {
      "cell_type": "code",
      "metadata": {
        "id": "4a3ufuUp7eXj"
      },
      "source": [
        "# importing timedelta\n",
        "from datetime import timedelta\n",
        "\n",
        "# getting the duration between policy start date and end date\n",
        "all_data['Duration'] = all_data['Policy End Date'] - all_data['Policy Start Date']\n",
        "\n",
        "# getting the duration in days\n",
        "all_data['Duration_days'] = all_data['Duration']/timedelta(days=1)\n",
        "\n",
        "# getting the duration in hours\n",
        "all_data['Duration_months'] = all_data['Duration']/ timedelta(hours=1)\n",
        "\n",
        "# getting the duration in seconds\n",
        "all_data['Duration_seconds'] = all_data['Duration']/timedelta(seconds=1)\n"
      ],
      "execution_count": null,
      "outputs": []
    },
    {
      "cell_type": "code",
      "metadata": {
        "colab": {
          "base_uri": "https://localhost:8080/"
        },
        "id": "wN4DaTCAKNfm",
        "outputId": "a291615f-fe4a-49a7-895e-3d15c209f85c"
      },
      "source": [
        "all_data.info()"
      ],
      "execution_count": null,
      "outputs": [
        {
          "output_type": "stream",
          "text": [
            "<class 'pandas.core.frame.DataFrame'>\n",
            "RangeIndex: 17256 entries, 0 to 17255\n",
            "Data columns (total 18 columns):\n",
            " #   Column                  Non-Null Count  Dtype          \n",
            "---  ------                  --------------  -----          \n",
            " 0   ID                      17256 non-null  object         \n",
            " 1   Policy Start Date       17256 non-null  datetime64[ns] \n",
            " 2   Policy End Date         17256 non-null  datetime64[ns] \n",
            " 3   Gender                  17256 non-null  object         \n",
            " 4   Age                     17256 non-null  int64          \n",
            " 5   First Transaction Date  17256 non-null  datetime64[ns] \n",
            " 6   No_Pol                  17256 non-null  int64          \n",
            " 7   Car_Category            17256 non-null  category       \n",
            " 8   Subject_Car_Colour      17256 non-null  category       \n",
            " 9   Subject_Car_Make        17256 non-null  category       \n",
            " 10  LGA_Name                17256 non-null  category       \n",
            " 11  State                   17256 non-null  category       \n",
            " 12  ProductName             17256 non-null  category       \n",
            " 13  target                  12079 non-null  float64        \n",
            " 14  Duration                17256 non-null  timedelta64[ns]\n",
            " 15  Duration_days           17256 non-null  float64        \n",
            " 16  Duration_months         17256 non-null  float64        \n",
            " 17  Duration_seconds        17256 non-null  float64        \n",
            "dtypes: category(6), datetime64[ns](3), float64(4), int64(2), object(2), timedelta64[ns](1)\n",
            "memory usage: 1.7+ MB\n"
          ],
          "name": "stdout"
        }
      ]
    },
    {
      "cell_type": "code",
      "metadata": {
        "colab": {
          "base_uri": "https://localhost:8080/",
          "height": 343
        },
        "id": "4XSlOh6OGX5a",
        "outputId": "b06f7c11-c1d6-45dd-b4af-e2079d21c4b2"
      },
      "source": [
        "# Extract date features from the date columns\n",
        "for col in date_cols:\n",
        "  for date_feature in ['year', 'month', 'day']:\n",
        "    all_data[col+date_feature] = getattr(all_data[col].dt, date_feature)\n",
        "\n",
        "all_data.head()    "
      ],
      "execution_count": null,
      "outputs": [
        {
          "output_type": "execute_result",
          "data": {
            "text/html": [
              "<div>\n",
              "<style scoped>\n",
              "    .dataframe tbody tr th:only-of-type {\n",
              "        vertical-align: middle;\n",
              "    }\n",
              "\n",
              "    .dataframe tbody tr th {\n",
              "        vertical-align: top;\n",
              "    }\n",
              "\n",
              "    .dataframe thead th {\n",
              "        text-align: right;\n",
              "    }\n",
              "</style>\n",
              "<table border=\"1\" class=\"dataframe\">\n",
              "  <thead>\n",
              "    <tr style=\"text-align: right;\">\n",
              "      <th></th>\n",
              "      <th>ID</th>\n",
              "      <th>Policy Start Date</th>\n",
              "      <th>Policy End Date</th>\n",
              "      <th>Gender</th>\n",
              "      <th>Age</th>\n",
              "      <th>First Transaction Date</th>\n",
              "      <th>No_Pol</th>\n",
              "      <th>Car_Category</th>\n",
              "      <th>Subject_Car_Colour</th>\n",
              "      <th>Subject_Car_Make</th>\n",
              "      <th>LGA_Name</th>\n",
              "      <th>State</th>\n",
              "      <th>ProductName</th>\n",
              "      <th>target</th>\n",
              "      <th>Duration</th>\n",
              "      <th>Duration_days</th>\n",
              "      <th>Duration_months</th>\n",
              "      <th>Duration_seconds</th>\n",
              "      <th>Policy Start Dateyear</th>\n",
              "      <th>Policy Start Datemonth</th>\n",
              "      <th>Policy Start Dateday</th>\n",
              "      <th>Policy End Dateyear</th>\n",
              "      <th>Policy End Datemonth</th>\n",
              "      <th>Policy End Dateday</th>\n",
              "      <th>First Transaction Dateyear</th>\n",
              "      <th>First Transaction Datemonth</th>\n",
              "      <th>First Transaction Dateday</th>\n",
              "    </tr>\n",
              "  </thead>\n",
              "  <tbody>\n",
              "    <tr>\n",
              "      <th>0</th>\n",
              "      <td>ID_0040R73</td>\n",
              "      <td>2010-05-14</td>\n",
              "      <td>2011-05-13</td>\n",
              "      <td>Male</td>\n",
              "      <td>30</td>\n",
              "      <td>2010-05-14</td>\n",
              "      <td>1</td>\n",
              "      <td>Saloon</td>\n",
              "      <td>Black</td>\n",
              "      <td>TOYOTA</td>\n",
              "      <td>Victoria Island</td>\n",
              "      <td>Lagos</td>\n",
              "      <td>Car Classic</td>\n",
              "      <td>0.0</td>\n",
              "      <td>364 days</td>\n",
              "      <td>364.0</td>\n",
              "      <td>8736.0</td>\n",
              "      <td>31449600.0</td>\n",
              "      <td>2010</td>\n",
              "      <td>5</td>\n",
              "      <td>14</td>\n",
              "      <td>2011</td>\n",
              "      <td>5</td>\n",
              "      <td>13</td>\n",
              "      <td>2010</td>\n",
              "      <td>5</td>\n",
              "      <td>14</td>\n",
              "    </tr>\n",
              "    <tr>\n",
              "      <th>1</th>\n",
              "      <td>ID_0046BNK</td>\n",
              "      <td>2010-11-29</td>\n",
              "      <td>2011-11-28</td>\n",
              "      <td>Female</td>\n",
              "      <td>79</td>\n",
              "      <td>2010-11-29</td>\n",
              "      <td>1</td>\n",
              "      <td>JEEP</td>\n",
              "      <td>Grey</td>\n",
              "      <td>TOYOTA</td>\n",
              "      <td>Victoria Island</td>\n",
              "      <td>Lagos</td>\n",
              "      <td>Car Classic</td>\n",
              "      <td>1.0</td>\n",
              "      <td>364 days</td>\n",
              "      <td>364.0</td>\n",
              "      <td>8736.0</td>\n",
              "      <td>31449600.0</td>\n",
              "      <td>2010</td>\n",
              "      <td>11</td>\n",
              "      <td>29</td>\n",
              "      <td>2011</td>\n",
              "      <td>11</td>\n",
              "      <td>28</td>\n",
              "      <td>2010</td>\n",
              "      <td>11</td>\n",
              "      <td>29</td>\n",
              "    </tr>\n",
              "    <tr>\n",
              "      <th>2</th>\n",
              "      <td>ID_005QMC3</td>\n",
              "      <td>2010-03-21</td>\n",
              "      <td>2011-03-20</td>\n",
              "      <td>Male</td>\n",
              "      <td>43</td>\n",
              "      <td>2010-03-21</td>\n",
              "      <td>1</td>\n",
              "      <td>Saloon</td>\n",
              "      <td>Red</td>\n",
              "      <td>TOYOTA</td>\n",
              "      <td>Victoria Island</td>\n",
              "      <td>Lagos</td>\n",
              "      <td>Car Classic</td>\n",
              "      <td>0.0</td>\n",
              "      <td>364 days</td>\n",
              "      <td>364.0</td>\n",
              "      <td>8736.0</td>\n",
              "      <td>31449600.0</td>\n",
              "      <td>2010</td>\n",
              "      <td>3</td>\n",
              "      <td>21</td>\n",
              "      <td>2011</td>\n",
              "      <td>3</td>\n",
              "      <td>20</td>\n",
              "      <td>2010</td>\n",
              "      <td>3</td>\n",
              "      <td>21</td>\n",
              "    </tr>\n",
              "    <tr>\n",
              "      <th>3</th>\n",
              "      <td>ID_0079OHW</td>\n",
              "      <td>2010-08-21</td>\n",
              "      <td>2011-08-20</td>\n",
              "      <td>Male</td>\n",
              "      <td>2</td>\n",
              "      <td>2010-08-21</td>\n",
              "      <td>1</td>\n",
              "      <td>Saloon</td>\n",
              "      <td>Black</td>\n",
              "      <td>TOYOTA</td>\n",
              "      <td>Victoria Island</td>\n",
              "      <td>Lagos</td>\n",
              "      <td>CarSafe</td>\n",
              "      <td>0.0</td>\n",
              "      <td>364 days</td>\n",
              "      <td>364.0</td>\n",
              "      <td>8736.0</td>\n",
              "      <td>31449600.0</td>\n",
              "      <td>2010</td>\n",
              "      <td>8</td>\n",
              "      <td>21</td>\n",
              "      <td>2011</td>\n",
              "      <td>8</td>\n",
              "      <td>20</td>\n",
              "      <td>2010</td>\n",
              "      <td>8</td>\n",
              "      <td>21</td>\n",
              "    </tr>\n",
              "    <tr>\n",
              "      <th>4</th>\n",
              "      <td>ID_00BRP63</td>\n",
              "      <td>2010-08-29</td>\n",
              "      <td>2010-12-31</td>\n",
              "      <td>Other</td>\n",
              "      <td>20</td>\n",
              "      <td>2010-08-29</td>\n",
              "      <td>3</td>\n",
              "      <td>Saloon</td>\n",
              "      <td>Black</td>\n",
              "      <td>TOYOTA</td>\n",
              "      <td>Lagos</td>\n",
              "      <td>Lagos</td>\n",
              "      <td>Muuve</td>\n",
              "      <td>1.0</td>\n",
              "      <td>124 days</td>\n",
              "      <td>124.0</td>\n",
              "      <td>2976.0</td>\n",
              "      <td>10713600.0</td>\n",
              "      <td>2010</td>\n",
              "      <td>8</td>\n",
              "      <td>29</td>\n",
              "      <td>2010</td>\n",
              "      <td>12</td>\n",
              "      <td>31</td>\n",
              "      <td>2010</td>\n",
              "      <td>8</td>\n",
              "      <td>29</td>\n",
              "    </tr>\n",
              "  </tbody>\n",
              "</table>\n",
              "</div>"
            ],
            "text/plain": [
              "           ID  ... First Transaction Dateday\n",
              "0  ID_0040R73  ...                        14\n",
              "1  ID_0046BNK  ...                        29\n",
              "2  ID_005QMC3  ...                        21\n",
              "3  ID_0079OHW  ...                        21\n",
              "4  ID_00BRP63  ...                        29\n",
              "\n",
              "[5 rows x 27 columns]"
            ]
          },
          "metadata": {
            "tags": []
          },
          "execution_count": 112
        }
      ]
    },
    {
      "cell_type": "code",
      "metadata": {
        "id": "6mGQqFvSl5wK"
      },
      "source": [
        "all_data.State = all_data.State.str.lower().str.replace('n-a', 'NaN')"
      ],
      "execution_count": null,
      "outputs": []
    },
    {
      "cell_type": "code",
      "metadata": {
        "colab": {
          "base_uri": "https://localhost:8080/"
        },
        "id": "_t_frtw8mqXE",
        "outputId": "f5972334-d5eb-44b8-b45c-5724891bae56"
      },
      "source": [
        "all_data.State.unique()"
      ],
      "execution_count": null,
      "outputs": [
        {
          "output_type": "execute_result",
          "data": {
            "text/plain": [
              "array(['lagos', 'benue', 'eti-osa', 'delta', 'ogun', 'abuja-municipal',\n",
              "       'oshodi-isolo', 'ibeju-lekki', 'ibadan-west', 'obia-akpor',\n",
              "       'ibadan-east', 'kaduna-south', 'amuwo-odofin', 'anambra', 'rivers',\n",
              "       'niger-state', 'edo', 'akwa-ibom', 'enugu-east', 'abuja', 'kaduna',\n",
              "       'esan-west', 'obafemi-owode', 'orile-iganmu', 'ifako-ijaye',\n",
              "       'ibadan-north', 'imo', 'jos-north', 'ondo-west', 'kaduna-north',\n",
              "       'aniocha-south', 'awka-south', 'ile-oluji', 'ijebu-ode',\n",
              "       'port-harcourt', 'nnewi-north', 'aboh-mbaise', 'oyo', 'akoko-west',\n",
              "       'warri-central', 'cross-river', 'jos-south', 'onitsha-north',\n",
              "       'osun', 'ajeromi-ifelodun', 'kano-municipal', 'ife-central',\n",
              "       'ilorin-west', 'lagelu-north', 'owerri-municipal', 'nsit-ubium',\n",
              "       'udi-agwu', 'essien-udim', 'owerri-west', 'ondo', 'ogbmosho-south',\n",
              "       'umuahia-south', 'abule-egba', 'enugu-north', 'ovia-southwest',\n",
              "       'kebbi', 'ajegunle-state', 'ekiti-west', 'ogun-waterside',\n",
              "       'ife-north', 'anambra-east', 'nasarawa', 'etsako-west', 'kwara',\n",
              "       'aba-north', 'awka-north', 'ibarapa-central', 'idemili-north',\n",
              "       'ogba-ndoni', 'calabar-municipality', 'ajao-estate', 'ekiti-east',\n",
              "       'gombe', 'bayelsa', 'ado-ota', 'oyo-east', 'ilorin-east',\n",
              "       'ilesha-west', 'central-abuja', 'kano', 'owerri-north', 'abia',\n",
              "       'kogi', 'ilesha-east', 'esan-central', 'isoko-south',\n",
              "       'ethiope-east', 'quaan-pan', 'warri-north', 'ado-ekiti', 'bauchi',\n",
              "       'ijebu-east', 'onitsha-south', 'ughelli-north', 'warri-south',\n",
              "       'ebonyi', 'oyo-west', 'aba-south', 'NaN', 'isoko-north',\n",
              "       'oshimili-north', 'ndokwa-east', 'nnewi-south', 'enugu-south',\n",
              "       'ijebu-north', 'asari-toru', 'idemili-south', 'ngor-okpala'],\n",
              "      dtype=object)"
            ]
          },
          "metadata": {
            "tags": []
          },
          "execution_count": 114
        }
      ]
    },
    {
      "cell_type": "code",
      "metadata": {
        "colab": {
          "base_uri": "https://localhost:8080/"
        },
        "id": "C5W3xj8ymv7e",
        "outputId": "8cc9eab7-b260-4ec1-bc5f-84377ce3a4da"
      },
      "source": [
        "states.State = states.State.str.lower().str.replace(' state', '')\n",
        "states.State.unique()"
      ],
      "execution_count": null,
      "outputs": [
        {
          "output_type": "execute_result",
          "data": {
            "text/plain": [
              "array(['borno', 'federal capital territory', 'akwa ibom', 'ebonyi',\n",
              "       'abia', 'ogun', 'cross river', 'imo', 'rivers', 'kogi', 'ekiti',\n",
              "       'oyo', 'niger', 'benue', 'lagos', 'anambra', 'kano', 'gombe',\n",
              "       'edo', 'ondo', 'nasarawa', 'kebbi', 'bauchi', 'enugu', 'delta',\n",
              "       'zamfara', 'taraba', 'kwara', 'osun', 'jigawa', 'plateau',\n",
              "       'katsina', 'yobe', 'sokoto', 'kaduna', 'bayelsa', 'adamawa',\n",
              "       'capital-ogun', 'capital-fct', 'abuja-municipal-area-council',\n",
              "       'alimosho', 'ado-odo-ota', 'ika-south', 'surulere', 'eti-osa',\n",
              "       'oshodi-isolo', 'ajeromi-ifelodun', 'shomolu', 'capital-ondo',\n",
              "       'ifo', 'state-akwa-ibom', 'agege', 'kosofe', 'obafemi-owode',\n",
              "       'capital-delta', 'capital-anambra', 'ibeju-lekki', 'capital-edo',\n",
              "       'capital-benue', 'capital-cross-river', 'central-benue',\n",
              "       'lagos-mainland', 'uvwie', 'enugu-east', 'amuwo-odofin',\n",
              "       'ifelodun', 'capital-oyo-central', 'ifako-ijaiye', 'apapa',\n",
              "       'capital-lagos', 'ife-central', 'ile-oluji-okeigbo', 'ilesa-east',\n",
              "       'capital-kwara', 'mushin', 'capital-kaduna', 'capital-kano',\n",
              "       'lagelu', 'state-lagos', 'unknown', 'capital-niger', 'state-niger',\n",
              "       'nnewi-north', 'ogbomosho-south', 'state-ogun', 'ikeja', 'okpe',\n",
              "       'state-ondo', 'onitsha-south', 'oshimili-north', 'capital-imo',\n",
              "       'state-oyo', 'qua-an-pan', 'state-rivers', 'udi', 'ikpoba-okha',\n",
              "       'state-abia', 'warri-south-west', 'warri-south'], dtype=object)"
            ]
          },
          "metadata": {
            "tags": []
          },
          "execution_count": 115
        }
      ]
    },
    {
      "cell_type": "code",
      "metadata": {
        "colab": {
          "base_uri": "https://localhost:8080/"
        },
        "id": "xDQtKbQq1f0O",
        "outputId": "4064bea5-5ee5-40cc-883a-de9b30d502a9"
      },
      "source": [
        "all_data.LGA_Name = all_data.LGA_Name.str.lower().str.replace(' ','-')\n",
        "all_data.LGA_Name.unique()"
      ],
      "execution_count": null,
      "outputs": [
        {
          "output_type": "execute_result",
          "data": {
            "text/plain": [
              "array(['victoria-island', 'lagos', 'ikeja', 'badagry', 'eti-osa', 'ikoyi',\n",
              "       'lagos-mainland', 'effurun', 'abeokuta', 'abuja-municipal', 'yaba',\n",
              "       'aguda', 'surulere', 'oshodi-isolo', 'alimosho',\n",
              "       'okpe,-delta-state', 'asaba', 'ibadancentral', 'lekki',\n",
              "       'ibeju/lekki', 'obanikoro', 'agege', 'isheri', 'kosofe', 'ogun',\n",
              "       'apapa', 'ibadan-south-west', 'obia/akpor', 'ibadan-south-east',\n",
              "       'sapele', 'kaduna-south', 'ikorodu', 'amuwo-odofin', 'awka',\n",
              "       'gbagada', 'port-harcourt', 'minna', 'shomolu', 'benin',\n",
              "       'lagos-island', 'central', 'ebute-metta', 'ketu', 'uyo', 'mushin',\n",
              "       'katagum', 'enugu-east', 'oredo', 'abuja', 'festac', 'ipaja',\n",
              "       'zaria-', 'esan-west', 'oluyole', 'bwari', 'obafemi-owode', 'lga',\n",
              "       'orile-iganmu', 'egbeda', 'ido', 'ifako-ijaye-', 'ibadan-north',\n",
              "       'oguta', 'jos-north', 'ajah', 'ondo-west', 'kaduna-north', 'warri',\n",
              "       'aniocha-south', 'owerri', 'awka-south', 'asokoro-district',\n",
              "       'ile-oluji', 'ijebu-ode', 'oshodi', 'emene', 'alagbado', 'wuse-11',\n",
              "       'egor', 'biase', 'shagamu', 'nnewi-north', 'aboh-mbaise',\n",
              "       'ibadan-north-east', 'akinyele', 'oyo', 'akoko-north-west', 'ogba',\n",
              "       'warri-central', 'ilupeju', 'calabar', 'jos-south',\n",
              "       'onitsha-north', 'akute', 'ifo', 'ojodu', 'bekwara',\n",
              "       'ibadan-north-west', 'epe', 'maryland', 'osogbo', 'kuje', 'idanre',\n",
              "       'ajeromi-ifelodun', 'olorunsogo', 'udu', 'ogudu', 'kano-municipal',\n",
              "       'ife-central', 'ilorin-west', 'lagelu-ogbomosho-north', 'katcha',\n",
              "       'isolo', 'akwa-ibom', 'anthony-village', 'abeokuta-south',\n",
              "       'magodo', 'kaduna', 'owerri-municipal', 'ojota', 'somolu',\n",
              "       'nsit-ubium', 'bonny', 'udi-agwu', 'essien-udim', 'owerri-west-',\n",
              "       'akure', 'ijaiye', 'ogbmosho-south', 'marina', 'orolu',\n",
              "       'umuahia-south', 'ile-ife', 'abule-egba', 'enugu-north',\n",
              "       'ovia-southwest', 'okota', 'argungu', 'okpe',\n",
              "       'ajegunle,lagos--state', 'nnewi', 'arepo', 'irepodun',\n",
              "       'ekiti-south-west', 'ogun-waterside', 'ife-north', 'rivers',\n",
              "       'dopemu', 'akure-south', 'ondo', 'oyi-', 'anambra-east', 'keffi',\n",
              "       'etsako-west', 'uvwie', 'ilorin', 'akoka', 'aba-north',\n",
              "       'awka-north', 'ibarapa-central', 'ojo', 'awoyaya', 'idemili-north',\n",
              "       'onitsha', 'iba', 'ikot-ekpene', 'ijora', '-ifako', 'niger-state',\n",
              "       'ogba/egbema/ndoni', 'eleme', 'ejigbo', 'calabar-municipality',\n",
              "       'abeokuta-north', 'yorro', 'ilesha', 'ikeja-g.r.a', 'goronyo',\n",
              "       'chanchaga', 'ajao-estate', 'ekiti-east', 'gombe', 'ikotun', 'iwo',\n",
              "       'akoko-edo', 'jibia', 'obalende', 'yenagoa', 'ado-odo/ota',\n",
              "       'oyo-east', 'rogo', 'ilorin-east', 'ilesha-west', 'garki',\n",
              "       'kumbotso', 'asa', 'central-area,-abuja', 'ukpoba', 'bariga',\n",
              "       'ikenne', 'kano', 'ilasamaja', 'ekeremor', 'oniru', 'sango-otta',\n",
              "       'owerri-north', 'umuahia', 'eket', 'garko', 'sangotedo', 'lokoja',\n",
              "       'ilesha-east', 'esan-central', 'isoko-south', 'ethiope-east',\n",
              "       'quaan-pan', 'warri-north', 'njaba', 'akuku-toru', 'ado-ekiti',\n",
              "       'agbor', 'karu', 'bauchi', 'ijebu-east', 'orsu', 'magboro',\n",
              "       'bosso', 'onitsha-south', 'ughelli-north', 'warri-south',\n",
              "       'nwangele', 'abakaliki', 'oyo-west', 'aba-south', 'ekiti',\n",
              "       'alapere', 'ishaga', 'isoko-north', 'oshimili-north',\n",
              "       'ndokwa-east', 'okrika', 'tai-', 'owode', 'oturkpo', 'bida',\n",
              "       'oshimili', 'nnewi-south', 'enugu-south', 'olamabolo', 'ikwerre',\n",
              "       'kajola', 'palm-groove', 'ijebu-north', 'akure-north', 'ohaukwu',\n",
              "       'asari-toru', 'ogbomoso', 'akowonjo', 'vgc', 'ankpa', 'zaria',\n",
              "       'agbara', 'idemili-south', 'ekwusigo', 'hong', 'ifako-agege',\n",
              "       'benue', 'okpokwu', 'ngor-okpala'], dtype=object)"
            ]
          },
          "metadata": {
            "tags": []
          },
          "execution_count": 116
        }
      ]
    },
    {
      "cell_type": "code",
      "metadata": {
        "colab": {
          "base_uri": "https://localhost:8080/"
        },
        "id": "w_nr5vx0rr0k",
        "outputId": "cc24e613-e96e-4dfd-fded-438a8e9f1fe4"
      },
      "source": [
        "states.LGA = states.LGA.str.lower()\n",
        "states.LGA.unique()"
      ],
      "execution_count": null,
      "outputs": [
        {
          "output_type": "execute_result",
          "data": {
            "text/plain": [
              "array(['abadam', 'abaji', 'abak', 'abakaliki', 'aba-north', 'aba-south',\n",
              "       'abeokuta-north', 'abeokuta-south', 'abi', 'aboh-mbaise',\n",
              "       'abua-odual', 'abuja-municipal-area-council', 'adavi', 'ado-ekiti',\n",
              "       'ado-odo-ota', 'afijio', 'afikpo-north', 'afikpo-south--edda-',\n",
              "       'agaie', 'agatu', 'agwara', 'agege', 'aguata', 'ahiazu-mbaise',\n",
              "       'ahoada-east', 'ahoada-west', 'ajaokuta', 'ajeromi-ifelodun',\n",
              "       'ajingi', 'akamkpa', 'akinyele', 'akko', 'akoko-edo',\n",
              "       'akoko-north-east', 'akoko-north-west', 'akoko-south-west',\n",
              "       'akoko-south-east', 'akpabuyo', 'akuku-toru', 'akure-north',\n",
              "       'akure-south', 'akwanga', 'albasu', 'aleiro', 'alimosho',\n",
              "       'alkaleri', 'amuwo-odofin', 'anambra-east', 'anambra-west',\n",
              "       'anaocha', 'andoni', 'aninri', 'aniocha-north', 'aniocha-south',\n",
              "       'anka', 'ankpa', 'apa', 'apapa', 'ado', 'ardo-kola', 'arewa-dandi',\n",
              "       'argungu', 'arochukwu', 'asa', 'asari-toru', 'askira-uba',\n",
              "       'atakunmosa-east', 'atakunmosa-west', 'atiba', 'atisbo', 'augie',\n",
              "       'auyo', 'awe', 'awgu', 'awka-north', 'awka-south', 'ayamelum',\n",
              "       'aiyedaade', 'aiyedire', 'babura', 'badagry', 'bagudo', 'bagwai',\n",
              "       'bakassi', 'bokkos', 'bakori', 'bakura', 'balanga', 'bali', 'bama',\n",
              "       'bade', 'barkin-ladi', 'baruten', 'bassa', 'batagarawa', 'batsari',\n",
              "       'bauchi', 'baure', 'bayo', 'bebeji', 'bekwarra', 'bende', 'biase',\n",
              "       'bichi', 'bida', 'billiri', 'bindawa', 'binji', 'biriniwa',\n",
              "       'birnin-gwari', 'birnin-kebbi', 'birnin-kudu',\n",
              "       'birnin-magaji-kiyaw', 'biu', 'bodinga', 'bogoro', 'boki',\n",
              "       'boluwaduro', 'bomadi', 'bonny', 'borgu', 'boripe', 'bursari',\n",
              "       'bosso', 'brass', 'buji', 'bukkuyum', 'buruku', 'bungudu',\n",
              "       'bunkure', 'bunza', 'burutu', 'bwari', 'calabar-municipal',\n",
              "       'calabar-south', 'chanchaga', 'charanchi', 'chibok', 'chikun',\n",
              "       'dala', 'damaturu', 'damban', 'dambatta', 'damboa', 'dandi',\n",
              "       'dandume', 'dange-shuni', 'danja', 'dan-musa', 'darazo', 'dass',\n",
              "       'daura', 'dawakin-kudu', 'dawakin-tofa', 'degema', 'dekina',\n",
              "       'demsa', 'dikwa', 'doguwa', 'doma', 'donga', 'dukku', 'dunukofia',\n",
              "       'dutse', 'dutsi', 'dutsin-ma', 'eastern-obolo', 'ebonyi', 'edati',\n",
              "       'ede-north', 'ede-south', 'edu', 'ife-central', 'ife-east',\n",
              "       'ife-north', 'ife-south', 'efon', 'yewa-north', 'yewa-south',\n",
              "       'egbeda', 'egbedore', 'egor', 'ehime-mbano', 'ejigbo', 'ekeremor',\n",
              "       'eket', 'ekiti', 'ekiti-east', 'ekiti-south-west', 'ekiti-west',\n",
              "       'ekwusigo', 'eleme', 'emuoha', 'emure', 'enugu-east',\n",
              "       'enugu-north', 'enugu-south', 'epe', 'esan-central',\n",
              "       'esan-north-east', 'esan-south-east', 'esan-west', 'ese-odo',\n",
              "       'esit-eket', 'essien-udim', 'etche', 'ethiope-east',\n",
              "       'ethiope-west', 'etim-ekpo', 'etinan', 'eti-osa', 'etsako-central',\n",
              "       'etsako-east', 'etsako-west', 'etung', 'ewekoro', 'ezeagu',\n",
              "       'ezinihitte', 'ezza-north', 'ezza-south', 'fagge', 'fakai',\n",
              "       'faskari', 'fika', 'fufure', 'funakaye', 'fune', 'funtua',\n",
              "       'gabasawa', 'gada', 'gagarawa', 'gamawa', 'ganjuwa', 'ganye',\n",
              "       'garki', 'garko', 'garun-mallam', 'gashaka', 'gassol', 'gaya',\n",
              "       'gayuk', 'gbako', 'gboko', 'gbonyin', 'geidam', 'gezawa', 'giade',\n",
              "       'giwa', 'gokana', 'gombe', 'gombi', 'goronyo', 'girei', 'gubio',\n",
              "       'gudu', 'gujba', 'gulani', 'guma', 'gumel', 'gummi', 'gurara',\n",
              "       'guri', 'gusau', 'guzamala', 'gwadabawa', 'gwagwalada', 'gwale',\n",
              "       'gwandu', 'gwaram', 'gwarzo', 'gwer-east', 'gwer-west', 'gwiwa',\n",
              "       'gwoza', 'hadejia', 'hawul', 'hong', 'ibadan-north',\n",
              "       'ibadan-north-east', 'ibadan-north-west', 'ibadan-south-east',\n",
              "       'ibadan-south-west', 'ibaji', 'ibarapa-central', 'ibarapa-east',\n",
              "       'ibarapa-north', 'ibeju-lekki', 'ibeno', 'ibesikpo-asutan', 'ibi',\n",
              "       'ibiono-ibom', 'idah', 'idanre', 'ideato-north', 'ideato-south',\n",
              "       'idemili-north', 'idemili-south', 'ido', 'ido-osi', 'ifako-ijaiye',\n",
              "       'ifedayo', 'ifedore', 'ifelodun', 'ifo', 'igabi',\n",
              "       'igalamela-odolu', 'igbo-etiti', 'igbo-eze-north',\n",
              "       'igbo-eze-south', 'igueben', 'ihiala', 'ihitte-uboma', 'ilaje',\n",
              "       'ijebu-east', 'ijebu-north', 'ijebu-north-east', 'ijebu-ode',\n",
              "       'ijero', 'ijumu', 'ika', 'ika-north-east', 'ikara', 'ika-south',\n",
              "       'ikeduru', 'ikeja', 'ikenne', 'ikere', 'ikole', 'ikom', 'ikono',\n",
              "       'ikorodu', 'ikot-abasi', 'ikot-ekpene', 'ikpoba-okha', 'ikwerre',\n",
              "       'ikwo', 'ikwuano', 'ila', 'ilejemeje', 'ile-oluji-okeigbo',\n",
              "       'ilesa-east', 'ilesa-west', 'illela', 'ilorin-east',\n",
              "       'ilorin-south', 'ilorin-west', 'imeko-afon', 'ingawa', 'ini',\n",
              "       'ipokia', 'irele', 'irepo', 'irepodun', 'irepodun-ifelodun',\n",
              "       'irewole', 'isa', 'ise-orun', 'iseyin', 'ishielu', 'isiala-mbano',\n",
              "       'isiala-ngwa-north', 'isiala-ngwa-south', 'isin', 'isi-uzo',\n",
              "       'isokan', 'isoko-north', 'isoko-south', 'isu', 'isuikwuato',\n",
              "       'itas-gadau', 'itesiwaju', 'itu', 'ivo', 'iwajowa', 'iwo', 'izzi',\n",
              "       'jaba', 'jada', 'jahun', 'jakusko', 'jalingo', 'jama-are', 'jega',\n",
              "       'jema-a', 'jere', 'jibia', 'jos-east', 'jos-north', 'jos-south',\n",
              "       'kabba-bunu', 'kabo', 'kachia', 'kaduna-north', 'kaduna-south',\n",
              "       'kafin-hausa', 'kafur', 'kaga', 'kagarko', 'kaiama', 'kaita',\n",
              "       'kajola', 'kajuru', 'kala-balge', 'kalgo', 'kaltungo', 'kanam',\n",
              "       'kankara', 'kanke', 'kankia', 'kano-municipal', 'karasuwa',\n",
              "       'karaye', 'karim-lamido', 'karu', 'katagum', 'katcha', 'katsina',\n",
              "       'katsina-ala', 'kaura', 'kaura-namoda', 'kauru', 'kazaure',\n",
              "       'keana', 'kebbe', 'keffi', 'khana', 'kibiya', 'kirfi',\n",
              "       'kiri-kasama', 'kiru', 'kiyawa', 'kogi', 'koko-besse', 'kokona',\n",
              "       'kolokuma-opokuma', 'konduga', 'konshisha', 'kontagora', 'kosofe',\n",
              "       'kaugama', 'kubau', 'kudan', 'kuje', 'kukawa', 'kumbotso', 'kumi',\n",
              "       'kunchi', 'kura', 'kurfi', 'kusada', 'kwali', 'kwande', 'kwami',\n",
              "       'kware', 'kwaya-kusar', 'lafia', 'lagelu', 'lagos-island',\n",
              "       'lagos-mainland', 'langtang-south', 'langtang-north', 'lapai',\n",
              "       'lamurde', 'lau', 'lavun', 'lere', 'logo', 'lokoja', 'machina',\n",
              "       'madagali', 'madobi', 'mafa', 'magama', 'magumeri', 'mai-adua',\n",
              "       'maiduguri', 'maigatari', 'maiha', 'maiyama', 'makarfi', 'makoda',\n",
              "       'malam-madori', 'malumfashi', 'mangu', 'mani', 'maradun', 'mariga',\n",
              "       'makurdi', 'marte', 'maru', 'mashegu', 'mashi', 'matazu',\n",
              "       'mayo-belwa', 'mbaitoli', 'mbo', 'michika', 'miga', 'mikang',\n",
              "       'minjibir', 'misau', 'moba', 'mobbar', 'mubi-north', 'mubi-south',\n",
              "       'mokwa', 'monguno', 'mopa-muro', 'moro', 'moya', 'mkpat-enin',\n",
              "       'musawa', 'mushin', 'nafada', 'nangere', 'nasarawa',\n",
              "       'nasarawa-egon', 'ndokwa-east', 'ndokwa-west', 'nembe', 'ngala',\n",
              "       'nganzai', 'ngaski', 'ngor-okpala', 'nguru', 'ningi', 'njaba',\n",
              "       'njikoka', 'nkanu-east', 'nkanu-west', 'nkwerre', 'nnewi-north',\n",
              "       'nnewi-south', 'nsit-atai', 'nsit-ibom', 'nsit-ubium', 'nsukka',\n",
              "       'numan', 'nwangele', 'obafemi-owode', 'obanliku', 'obi',\n",
              "       'obi-ngwa', 'obio-akpor', 'obokun', 'obot-akara', 'obowo',\n",
              "       'obubra', 'obudu', 'odeda', 'odigbo', 'odogbolu', 'odo-otin',\n",
              "       'odukpani', 'offa', 'ofu', 'ogba-egbema-ndoni', 'ogbadibo',\n",
              "       'ogbaru', 'ogbia', 'ogbomosho-north', 'ogbomosho-south',\n",
              "       'ogu-bolo', 'ogoja', 'ogo-oluwa', 'ogori-magongo',\n",
              "       'ogun-waterside', 'oguta', 'ohafia', 'ohaji-egbema', 'ohaozara',\n",
              "       'ohaukwu', 'ohimini', 'orhionmwon', 'oji-river', 'ojo', 'oju',\n",
              "       'okehi', 'okene', 'oke-ero', 'okigwe', 'okitipupa', 'okobo',\n",
              "       'okpe', 'okrika', 'olamaboro', 'ola-oluwa', 'olorunda',\n",
              "       'olorunsogo', 'oluyole', 'omala', 'omuma', 'ona-ara', 'ondo-east',\n",
              "       'ondo-west', 'onicha', 'onitsha-north', 'onitsha-south', 'onna',\n",
              "       'okpokwu', 'opobo-nkoro', 'oredo', 'orelope', 'oriade', 'ori-ire',\n",
              "       'orlu', 'orolu', 'oron', 'orsu', 'oru-east', 'oruk-anam',\n",
              "       'orumba-north', 'orumba-south', 'oru-west', 'ose',\n",
              "       'oshimili-north', 'oshimili-south', 'oshodi-isolo', 'osisioma',\n",
              "       'osogbo', 'oturkpo', 'ovia-north-east', 'ovia-south-west',\n",
              "       'owan-east', 'owan-west', 'owerri-municipal', 'owerri-north',\n",
              "       'owerri-west', 'owo', 'oye', 'oyi', 'oyigbo', 'oyo-west',\n",
              "       'oyo-east', 'oyun', 'paikoro', 'pankshin', 'patani', 'pategi',\n",
              "       'port-harcourt', 'potiskum', 'qua-an-pan', 'rabah', 'rafi', 'rano',\n",
              "       'remo-north', 'rijau', 'rimi', 'rimin-gado', 'ringim', 'riyom',\n",
              "       'rogo', 'roni', 'sabon-birni', 'sabon-gari', 'sabuwa', 'safana',\n",
              "       'sagbama', 'sakaba', 'saki-east', 'saki-west', 'sandamu', 'sanga',\n",
              "       'sapele', 'sardauna', 'shagamu', 'shagari', 'shanga', 'shani',\n",
              "       'shanono', 'shelleng', 'shendam', 'shinkafi', 'shira', 'shiroro',\n",
              "       'shongom', 'shomolu', 'silame', 'soba', 'sokoto-north',\n",
              "       'sokoto-south', 'song', 'southern-ijaw', 'suleja',\n",
              "       'sule-tankarkar', 'sumaila', 'suru', 'surulere', 'tafa',\n",
              "       'tafawa-balewa', 'tai', 'takai', 'takum', 'talata-mafara',\n",
              "       'tambuwal', 'tangaza', 'tarauni', 'tarka', 'tarmuwa', 'taura',\n",
              "       'toungo', 'tofa', 'toro', 'toto', 'chafe', 'tsanyawa',\n",
              "       'tudun-wada', 'tureta', 'udenu', 'udi', 'udu', 'udung-uko',\n",
              "       'ughelli-north', 'ughelli-south', 'ugwunagbo', 'uhunmwonde',\n",
              "       'ukanafun', 'ukum', 'ukwa-east', 'ukwa-west', 'ukwuani',\n",
              "       'umuahia-north', 'umuahia-south', 'umu-nneochi', 'ungogo',\n",
              "       'unuimo', 'uruan', 'urue-offong-oruko', 'ushongo', 'ussa', 'uvwie',\n",
              "       'uyo', 'uzo-uwani', 'vandeikya', 'wamako', 'wamba', 'warawa',\n",
              "       'warji', 'warri-north', 'warri-south', 'warri-south-west',\n",
              "       'wasagu-danko', 'wase', 'wudil', 'wukari', 'wurno', 'wushishi',\n",
              "       'yabo', 'yagba-east', 'yagba-west', 'yakuur', 'yala',\n",
              "       'yamaltu-deba', 'yankwashi', 'yauri', 'yenagoa', 'yola-north',\n",
              "       'yola-south', 'yorro', 'yunusari', 'yusufari', 'zaki', 'zango',\n",
              "       'zangon-kataf', 'zaria', 'zing', 'zurmi', 'zuru', 'abeokuta',\n",
              "       'abuja', 'abuja-municipal', 'abule-egba', 'agbara', 'agbor',\n",
              "       'aguda', 'ajah', 'ajao-estate', 'ajegunle-lagos--state', 'akoka',\n",
              "       'akowonjo', 'akure', 'akute', 'akwa-ibom', 'alagbado', 'alapere',\n",
              "       'anthony-village', 'arepo', 'asaba', 'asokoro-district', 'awka',\n",
              "       'awoyaya', 'ibeju', 'bariga', 'benin', 'benue', 'calabar',\n",
              "       'central', 'central-area--abuja', 'dopemu', 'ebute-metta',\n",
              "       'effurun', 'emene', 'festac', 'gbagada', 'iba', 'ibadancentral',\n",
              "       'ifako', 'ifako-agege', 'ijaiye', 'ijora', 'ikeja-g-r-a', 'ikotun',\n",
              "       'ikoyi', 'ilasamaja', 'ile-ife', 'ile-oluji', 'ilesha', 'ilorin',\n",
              "       'ilupeju', 'ipaja', 'ishaga', 'isheri', 'isolo', 'kaduna', 'kano',\n",
              "       'ketu', 'lagelu-ogbomosho-north', 'lagos', 'lekki', 'lga',\n",
              "       'magboro', 'magodo', 'marina', 'maryland', 'minna', 'niger-state',\n",
              "       'nnewi', 'obalende', 'obanikoro', 'ogbomoso', 'ogun', 'ojodu',\n",
              "       'ojota', 'okota', 'okpe--delta-state', 'ondo', 'oniru', 'onitsha',\n",
              "       'orile-iganmu', 'oshimili', 'oshodi', 'owerri', 'owode', 'oyo',\n",
              "       'palm-groove', 'quaan-pan', 'rivers', 'sango-otta', 'sangotedo',\n",
              "       'udi-agwu', 'ukpoba', 'umuahia', 'vgc', 'victoria-island', 'warri',\n",
              "       'warri-central', 'wuse-11', 'yaba', nan], dtype=object)"
            ]
          },
          "metadata": {
            "tags": []
          },
          "execution_count": 117
        }
      ]
    },
    {
      "cell_type": "markdown",
      "metadata": {
        "id": "NNStIlKsH9EJ"
      },
      "source": [
        "Deal with categorical variables\n",
        "\n",
        "Tips:\n",
        "\n",
        "\n",
        "*   One hot encoding\n",
        "*   Label encoding\n",
        "*   Target encoding\n",
        "*   Reduce the number of unique values\n",
        "\n"
      ]
    },
    {
      "cell_type": "code",
      "metadata": {
        "colab": {
          "base_uri": "https://localhost:8080/",
          "height": 372
        },
        "id": "mkSIMjvuH3Z7",
        "outputId": "f0b9c9f2-7c1c-444c-b384-f27c9d0565ff"
      },
      "source": [
        "# Encode categorical features\n",
        "all_data = pd.get_dummies(data = all_data, columns = cat_cols)\n",
        "all_data.head()"
      ],
      "execution_count": null,
      "outputs": [
        {
          "output_type": "execute_result",
          "data": {
            "text/html": [
              "<div>\n",
              "<style scoped>\n",
              "    .dataframe tbody tr th:only-of-type {\n",
              "        vertical-align: middle;\n",
              "    }\n",
              "\n",
              "    .dataframe tbody tr th {\n",
              "        vertical-align: top;\n",
              "    }\n",
              "\n",
              "    .dataframe thead th {\n",
              "        text-align: right;\n",
              "    }\n",
              "</style>\n",
              "<table border=\"1\" class=\"dataframe\">\n",
              "  <thead>\n",
              "    <tr style=\"text-align: right;\">\n",
              "      <th></th>\n",
              "      <th>ID</th>\n",
              "      <th>Policy Start Date</th>\n",
              "      <th>Policy End Date</th>\n",
              "      <th>Age</th>\n",
              "      <th>First Transaction Date</th>\n",
              "      <th>No_Pol</th>\n",
              "      <th>target</th>\n",
              "      <th>Duration</th>\n",
              "      <th>Duration_days</th>\n",
              "      <th>Duration_months</th>\n",
              "      <th>Duration_seconds</th>\n",
              "      <th>Policy Start Dateyear</th>\n",
              "      <th>Policy Start Datemonth</th>\n",
              "      <th>Policy Start Dateday</th>\n",
              "      <th>Policy End Dateyear</th>\n",
              "      <th>Policy End Datemonth</th>\n",
              "      <th>Policy End Dateday</th>\n",
              "      <th>First Transaction Dateyear</th>\n",
              "      <th>First Transaction Datemonth</th>\n",
              "      <th>First Transaction Dateday</th>\n",
              "      <th>Gender_Female</th>\n",
              "      <th>Gender_Male</th>\n",
              "      <th>Gender_Other</th>\n",
              "      <th>Car_Category_Bus</th>\n",
              "      <th>Car_Category_CAMRY CAR HIRE</th>\n",
              "      <th>Car_Category_JEEP</th>\n",
              "      <th>Car_Category_Mini Bus</th>\n",
              "      <th>Car_Category_Mini Van</th>\n",
              "      <th>Car_Category_Motorcycle</th>\n",
              "      <th>Car_Category_Pick Up</th>\n",
              "      <th>Car_Category_Pick Up &gt; 3 Tons</th>\n",
              "      <th>Car_Category_Saloon</th>\n",
              "      <th>Car_Category_Sedan</th>\n",
              "      <th>Car_Category_Shape Of Vehicle Chasis</th>\n",
              "      <th>Car_Category_Station 4 Wheel</th>\n",
              "      <th>Car_Category_Tipper Truck</th>\n",
              "      <th>Car_Category_Truck</th>\n",
              "      <th>Car_Category_Van</th>\n",
              "      <th>Car_Category_Wagon</th>\n",
              "      <th>Subject_Car_Colour_As Attached</th>\n",
              "      <th>...</th>\n",
              "      <th>State_nsit-ubium</th>\n",
              "      <th>State_obafemi-owode</th>\n",
              "      <th>State_obia-akpor</th>\n",
              "      <th>State_ogba-ndoni</th>\n",
              "      <th>State_ogbmosho-south</th>\n",
              "      <th>State_ogun</th>\n",
              "      <th>State_ogun-waterside</th>\n",
              "      <th>State_ondo</th>\n",
              "      <th>State_ondo-west</th>\n",
              "      <th>State_onitsha-north</th>\n",
              "      <th>State_onitsha-south</th>\n",
              "      <th>State_orile-iganmu</th>\n",
              "      <th>State_oshimili-north</th>\n",
              "      <th>State_oshodi-isolo</th>\n",
              "      <th>State_osun</th>\n",
              "      <th>State_ovia-southwest</th>\n",
              "      <th>State_owerri-municipal</th>\n",
              "      <th>State_owerri-north</th>\n",
              "      <th>State_owerri-west</th>\n",
              "      <th>State_oyo</th>\n",
              "      <th>State_oyo-east</th>\n",
              "      <th>State_oyo-west</th>\n",
              "      <th>State_port-harcourt</th>\n",
              "      <th>State_quaan-pan</th>\n",
              "      <th>State_rivers</th>\n",
              "      <th>State_udi-agwu</th>\n",
              "      <th>State_ughelli-north</th>\n",
              "      <th>State_umuahia-south</th>\n",
              "      <th>State_warri-central</th>\n",
              "      <th>State_warri-north</th>\n",
              "      <th>State_warri-south</th>\n",
              "      <th>ProductName_CVTP</th>\n",
              "      <th>ProductName_Car Classic</th>\n",
              "      <th>ProductName_Car Plus</th>\n",
              "      <th>ProductName_Car Vintage</th>\n",
              "      <th>ProductName_CarFlex</th>\n",
              "      <th>ProductName_CarSafe</th>\n",
              "      <th>ProductName_Customized Motor</th>\n",
              "      <th>ProductName_Motor Cycle</th>\n",
              "      <th>ProductName_Muuve</th>\n",
              "    </tr>\n",
              "  </thead>\n",
              "  <tbody>\n",
              "    <tr>\n",
              "      <th>0</th>\n",
              "      <td>ID_0040R73</td>\n",
              "      <td>2010-05-14</td>\n",
              "      <td>2011-05-13</td>\n",
              "      <td>30</td>\n",
              "      <td>2010-05-14</td>\n",
              "      <td>1</td>\n",
              "      <td>0.0</td>\n",
              "      <td>364 days</td>\n",
              "      <td>364.0</td>\n",
              "      <td>8736.0</td>\n",
              "      <td>31449600.0</td>\n",
              "      <td>2010</td>\n",
              "      <td>5</td>\n",
              "      <td>14</td>\n",
              "      <td>2011</td>\n",
              "      <td>5</td>\n",
              "      <td>13</td>\n",
              "      <td>2010</td>\n",
              "      <td>5</td>\n",
              "      <td>14</td>\n",
              "      <td>0</td>\n",
              "      <td>1</td>\n",
              "      <td>0</td>\n",
              "      <td>0</td>\n",
              "      <td>0</td>\n",
              "      <td>0</td>\n",
              "      <td>0</td>\n",
              "      <td>0</td>\n",
              "      <td>0</td>\n",
              "      <td>0</td>\n",
              "      <td>0</td>\n",
              "      <td>1</td>\n",
              "      <td>0</td>\n",
              "      <td>0</td>\n",
              "      <td>0</td>\n",
              "      <td>0</td>\n",
              "      <td>0</td>\n",
              "      <td>0</td>\n",
              "      <td>0</td>\n",
              "      <td>0</td>\n",
              "      <td>...</td>\n",
              "      <td>0</td>\n",
              "      <td>0</td>\n",
              "      <td>0</td>\n",
              "      <td>0</td>\n",
              "      <td>0</td>\n",
              "      <td>0</td>\n",
              "      <td>0</td>\n",
              "      <td>0</td>\n",
              "      <td>0</td>\n",
              "      <td>0</td>\n",
              "      <td>0</td>\n",
              "      <td>0</td>\n",
              "      <td>0</td>\n",
              "      <td>0</td>\n",
              "      <td>0</td>\n",
              "      <td>0</td>\n",
              "      <td>0</td>\n",
              "      <td>0</td>\n",
              "      <td>0</td>\n",
              "      <td>0</td>\n",
              "      <td>0</td>\n",
              "      <td>0</td>\n",
              "      <td>0</td>\n",
              "      <td>0</td>\n",
              "      <td>0</td>\n",
              "      <td>0</td>\n",
              "      <td>0</td>\n",
              "      <td>0</td>\n",
              "      <td>0</td>\n",
              "      <td>0</td>\n",
              "      <td>0</td>\n",
              "      <td>0</td>\n",
              "      <td>1</td>\n",
              "      <td>0</td>\n",
              "      <td>0</td>\n",
              "      <td>0</td>\n",
              "      <td>0</td>\n",
              "      <td>0</td>\n",
              "      <td>0</td>\n",
              "      <td>0</td>\n",
              "    </tr>\n",
              "    <tr>\n",
              "      <th>1</th>\n",
              "      <td>ID_0046BNK</td>\n",
              "      <td>2010-11-29</td>\n",
              "      <td>2011-11-28</td>\n",
              "      <td>79</td>\n",
              "      <td>2010-11-29</td>\n",
              "      <td>1</td>\n",
              "      <td>1.0</td>\n",
              "      <td>364 days</td>\n",
              "      <td>364.0</td>\n",
              "      <td>8736.0</td>\n",
              "      <td>31449600.0</td>\n",
              "      <td>2010</td>\n",
              "      <td>11</td>\n",
              "      <td>29</td>\n",
              "      <td>2011</td>\n",
              "      <td>11</td>\n",
              "      <td>28</td>\n",
              "      <td>2010</td>\n",
              "      <td>11</td>\n",
              "      <td>29</td>\n",
              "      <td>1</td>\n",
              "      <td>0</td>\n",
              "      <td>0</td>\n",
              "      <td>0</td>\n",
              "      <td>0</td>\n",
              "      <td>1</td>\n",
              "      <td>0</td>\n",
              "      <td>0</td>\n",
              "      <td>0</td>\n",
              "      <td>0</td>\n",
              "      <td>0</td>\n",
              "      <td>0</td>\n",
              "      <td>0</td>\n",
              "      <td>0</td>\n",
              "      <td>0</td>\n",
              "      <td>0</td>\n",
              "      <td>0</td>\n",
              "      <td>0</td>\n",
              "      <td>0</td>\n",
              "      <td>0</td>\n",
              "      <td>...</td>\n",
              "      <td>0</td>\n",
              "      <td>0</td>\n",
              "      <td>0</td>\n",
              "      <td>0</td>\n",
              "      <td>0</td>\n",
              "      <td>0</td>\n",
              "      <td>0</td>\n",
              "      <td>0</td>\n",
              "      <td>0</td>\n",
              "      <td>0</td>\n",
              "      <td>0</td>\n",
              "      <td>0</td>\n",
              "      <td>0</td>\n",
              "      <td>0</td>\n",
              "      <td>0</td>\n",
              "      <td>0</td>\n",
              "      <td>0</td>\n",
              "      <td>0</td>\n",
              "      <td>0</td>\n",
              "      <td>0</td>\n",
              "      <td>0</td>\n",
              "      <td>0</td>\n",
              "      <td>0</td>\n",
              "      <td>0</td>\n",
              "      <td>0</td>\n",
              "      <td>0</td>\n",
              "      <td>0</td>\n",
              "      <td>0</td>\n",
              "      <td>0</td>\n",
              "      <td>0</td>\n",
              "      <td>0</td>\n",
              "      <td>0</td>\n",
              "      <td>1</td>\n",
              "      <td>0</td>\n",
              "      <td>0</td>\n",
              "      <td>0</td>\n",
              "      <td>0</td>\n",
              "      <td>0</td>\n",
              "      <td>0</td>\n",
              "      <td>0</td>\n",
              "    </tr>\n",
              "    <tr>\n",
              "      <th>2</th>\n",
              "      <td>ID_005QMC3</td>\n",
              "      <td>2010-03-21</td>\n",
              "      <td>2011-03-20</td>\n",
              "      <td>43</td>\n",
              "      <td>2010-03-21</td>\n",
              "      <td>1</td>\n",
              "      <td>0.0</td>\n",
              "      <td>364 days</td>\n",
              "      <td>364.0</td>\n",
              "      <td>8736.0</td>\n",
              "      <td>31449600.0</td>\n",
              "      <td>2010</td>\n",
              "      <td>3</td>\n",
              "      <td>21</td>\n",
              "      <td>2011</td>\n",
              "      <td>3</td>\n",
              "      <td>20</td>\n",
              "      <td>2010</td>\n",
              "      <td>3</td>\n",
              "      <td>21</td>\n",
              "      <td>0</td>\n",
              "      <td>1</td>\n",
              "      <td>0</td>\n",
              "      <td>0</td>\n",
              "      <td>0</td>\n",
              "      <td>0</td>\n",
              "      <td>0</td>\n",
              "      <td>0</td>\n",
              "      <td>0</td>\n",
              "      <td>0</td>\n",
              "      <td>0</td>\n",
              "      <td>1</td>\n",
              "      <td>0</td>\n",
              "      <td>0</td>\n",
              "      <td>0</td>\n",
              "      <td>0</td>\n",
              "      <td>0</td>\n",
              "      <td>0</td>\n",
              "      <td>0</td>\n",
              "      <td>0</td>\n",
              "      <td>...</td>\n",
              "      <td>0</td>\n",
              "      <td>0</td>\n",
              "      <td>0</td>\n",
              "      <td>0</td>\n",
              "      <td>0</td>\n",
              "      <td>0</td>\n",
              "      <td>0</td>\n",
              "      <td>0</td>\n",
              "      <td>0</td>\n",
              "      <td>0</td>\n",
              "      <td>0</td>\n",
              "      <td>0</td>\n",
              "      <td>0</td>\n",
              "      <td>0</td>\n",
              "      <td>0</td>\n",
              "      <td>0</td>\n",
              "      <td>0</td>\n",
              "      <td>0</td>\n",
              "      <td>0</td>\n",
              "      <td>0</td>\n",
              "      <td>0</td>\n",
              "      <td>0</td>\n",
              "      <td>0</td>\n",
              "      <td>0</td>\n",
              "      <td>0</td>\n",
              "      <td>0</td>\n",
              "      <td>0</td>\n",
              "      <td>0</td>\n",
              "      <td>0</td>\n",
              "      <td>0</td>\n",
              "      <td>0</td>\n",
              "      <td>0</td>\n",
              "      <td>1</td>\n",
              "      <td>0</td>\n",
              "      <td>0</td>\n",
              "      <td>0</td>\n",
              "      <td>0</td>\n",
              "      <td>0</td>\n",
              "      <td>0</td>\n",
              "      <td>0</td>\n",
              "    </tr>\n",
              "    <tr>\n",
              "      <th>3</th>\n",
              "      <td>ID_0079OHW</td>\n",
              "      <td>2010-08-21</td>\n",
              "      <td>2011-08-20</td>\n",
              "      <td>2</td>\n",
              "      <td>2010-08-21</td>\n",
              "      <td>1</td>\n",
              "      <td>0.0</td>\n",
              "      <td>364 days</td>\n",
              "      <td>364.0</td>\n",
              "      <td>8736.0</td>\n",
              "      <td>31449600.0</td>\n",
              "      <td>2010</td>\n",
              "      <td>8</td>\n",
              "      <td>21</td>\n",
              "      <td>2011</td>\n",
              "      <td>8</td>\n",
              "      <td>20</td>\n",
              "      <td>2010</td>\n",
              "      <td>8</td>\n",
              "      <td>21</td>\n",
              "      <td>0</td>\n",
              "      <td>1</td>\n",
              "      <td>0</td>\n",
              "      <td>0</td>\n",
              "      <td>0</td>\n",
              "      <td>0</td>\n",
              "      <td>0</td>\n",
              "      <td>0</td>\n",
              "      <td>0</td>\n",
              "      <td>0</td>\n",
              "      <td>0</td>\n",
              "      <td>1</td>\n",
              "      <td>0</td>\n",
              "      <td>0</td>\n",
              "      <td>0</td>\n",
              "      <td>0</td>\n",
              "      <td>0</td>\n",
              "      <td>0</td>\n",
              "      <td>0</td>\n",
              "      <td>0</td>\n",
              "      <td>...</td>\n",
              "      <td>0</td>\n",
              "      <td>0</td>\n",
              "      <td>0</td>\n",
              "      <td>0</td>\n",
              "      <td>0</td>\n",
              "      <td>0</td>\n",
              "      <td>0</td>\n",
              "      <td>0</td>\n",
              "      <td>0</td>\n",
              "      <td>0</td>\n",
              "      <td>0</td>\n",
              "      <td>0</td>\n",
              "      <td>0</td>\n",
              "      <td>0</td>\n",
              "      <td>0</td>\n",
              "      <td>0</td>\n",
              "      <td>0</td>\n",
              "      <td>0</td>\n",
              "      <td>0</td>\n",
              "      <td>0</td>\n",
              "      <td>0</td>\n",
              "      <td>0</td>\n",
              "      <td>0</td>\n",
              "      <td>0</td>\n",
              "      <td>0</td>\n",
              "      <td>0</td>\n",
              "      <td>0</td>\n",
              "      <td>0</td>\n",
              "      <td>0</td>\n",
              "      <td>0</td>\n",
              "      <td>0</td>\n",
              "      <td>0</td>\n",
              "      <td>0</td>\n",
              "      <td>0</td>\n",
              "      <td>0</td>\n",
              "      <td>0</td>\n",
              "      <td>1</td>\n",
              "      <td>0</td>\n",
              "      <td>0</td>\n",
              "      <td>0</td>\n",
              "    </tr>\n",
              "    <tr>\n",
              "      <th>4</th>\n",
              "      <td>ID_00BRP63</td>\n",
              "      <td>2010-08-29</td>\n",
              "      <td>2010-12-31</td>\n",
              "      <td>20</td>\n",
              "      <td>2010-08-29</td>\n",
              "      <td>3</td>\n",
              "      <td>1.0</td>\n",
              "      <td>124 days</td>\n",
              "      <td>124.0</td>\n",
              "      <td>2976.0</td>\n",
              "      <td>10713600.0</td>\n",
              "      <td>2010</td>\n",
              "      <td>8</td>\n",
              "      <td>29</td>\n",
              "      <td>2010</td>\n",
              "      <td>12</td>\n",
              "      <td>31</td>\n",
              "      <td>2010</td>\n",
              "      <td>8</td>\n",
              "      <td>29</td>\n",
              "      <td>0</td>\n",
              "      <td>0</td>\n",
              "      <td>1</td>\n",
              "      <td>0</td>\n",
              "      <td>0</td>\n",
              "      <td>0</td>\n",
              "      <td>0</td>\n",
              "      <td>0</td>\n",
              "      <td>0</td>\n",
              "      <td>0</td>\n",
              "      <td>0</td>\n",
              "      <td>1</td>\n",
              "      <td>0</td>\n",
              "      <td>0</td>\n",
              "      <td>0</td>\n",
              "      <td>0</td>\n",
              "      <td>0</td>\n",
              "      <td>0</td>\n",
              "      <td>0</td>\n",
              "      <td>0</td>\n",
              "      <td>...</td>\n",
              "      <td>0</td>\n",
              "      <td>0</td>\n",
              "      <td>0</td>\n",
              "      <td>0</td>\n",
              "      <td>0</td>\n",
              "      <td>0</td>\n",
              "      <td>0</td>\n",
              "      <td>0</td>\n",
              "      <td>0</td>\n",
              "      <td>0</td>\n",
              "      <td>0</td>\n",
              "      <td>0</td>\n",
              "      <td>0</td>\n",
              "      <td>0</td>\n",
              "      <td>0</td>\n",
              "      <td>0</td>\n",
              "      <td>0</td>\n",
              "      <td>0</td>\n",
              "      <td>0</td>\n",
              "      <td>0</td>\n",
              "      <td>0</td>\n",
              "      <td>0</td>\n",
              "      <td>0</td>\n",
              "      <td>0</td>\n",
              "      <td>0</td>\n",
              "      <td>0</td>\n",
              "      <td>0</td>\n",
              "      <td>0</td>\n",
              "      <td>0</td>\n",
              "      <td>0</td>\n",
              "      <td>0</td>\n",
              "      <td>0</td>\n",
              "      <td>0</td>\n",
              "      <td>0</td>\n",
              "      <td>0</td>\n",
              "      <td>0</td>\n",
              "      <td>0</td>\n",
              "      <td>0</td>\n",
              "      <td>0</td>\n",
              "      <td>1</td>\n",
              "    </tr>\n",
              "  </tbody>\n",
              "</table>\n",
              "<p>5 rows × 551 columns</p>\n",
              "</div>"
            ],
            "text/plain": [
              "           ID Policy Start Date  ... ProductName_Motor Cycle  ProductName_Muuve\n",
              "0  ID_0040R73        2010-05-14  ...                       0                  0\n",
              "1  ID_0046BNK        2010-11-29  ...                       0                  0\n",
              "2  ID_005QMC3        2010-03-21  ...                       0                  0\n",
              "3  ID_0079OHW        2010-08-21  ...                       0                  0\n",
              "4  ID_00BRP63        2010-08-29  ...                       0                  1\n",
              "\n",
              "[5 rows x 551 columns]"
            ]
          },
          "metadata": {
            "tags": []
          },
          "execution_count": 118
        }
      ]
    },
    {
      "cell_type": "code",
      "metadata": {
        "id": "XpwPYjKyoGd1"
      },
      "source": [
        "all_data.drop(columns=['Policy Start Date', 'Policy End Date', 'First Transaction Date', 'Duration'], axis = 1, inplace=True)"
      ],
      "execution_count": null,
      "outputs": []
    },
    {
      "cell_type": "code",
      "metadata": {
        "id": "oMfXSfFBlA5q"
      },
      "source": [
        ""
      ],
      "execution_count": null,
      "outputs": []
    },
    {
      "cell_type": "code",
      "metadata": {
        "colab": {
          "base_uri": "https://localhost:8080/"
        },
        "id": "KbbcAovTIh1X",
        "outputId": "a70372bf-b7d5-4978-9622-3ff542c80f1f"
      },
      "source": [
        "# Separate train and test data from the combined dataframe\n",
        "train_df = all_data[:ntrain]\n",
        "test_df = all_data[ntrain:]\n",
        "\n",
        "# Check the shapes of the split dataset\n",
        "train_df.shape, test_df.shape"
      ],
      "execution_count": null,
      "outputs": [
        {
          "output_type": "execute_result",
          "data": {
            "text/plain": [
              "((12079, 547), (5177, 547))"
            ]
          },
          "metadata": {
            "tags": []
          },
          "execution_count": 120
        }
      ]
    },
    {
      "cell_type": "code",
      "metadata": {
        "colab": {
          "base_uri": "https://localhost:8080/"
        },
        "id": "z-CKXuyGSv-H",
        "outputId": "07833a30-3efa-4e86-8942-f694d5849c8f"
      },
      "source": [
        "train_df.isna().sum().sum()"
      ],
      "execution_count": null,
      "outputs": [
        {
          "output_type": "execute_result",
          "data": {
            "text/plain": [
              "0"
            ]
          },
          "metadata": {
            "tags": []
          },
          "execution_count": 121
        }
      ]
    },
    {
      "cell_type": "code",
      "metadata": {
        "colab": {
          "base_uri": "https://localhost:8080/"
        },
        "id": "vsnMEP5pv9Lm",
        "outputId": "b72b508f-c91e-4b7e-91cf-8e57e629b1ab"
      },
      "source": [
        "all_data.columns"
      ],
      "execution_count": null,
      "outputs": [
        {
          "output_type": "execute_result",
          "data": {
            "text/plain": [
              "Index(['ID', 'Age', 'No_Pol', 'target', 'Duration_days', 'Duration_months',\n",
              "       'Duration_seconds', 'Policy Start Dateyear', 'Policy Start Datemonth',\n",
              "       'Policy Start Dateday',\n",
              "       ...\n",
              "       'State_warri-south', 'ProductName_CVTP', 'ProductName_Car Classic',\n",
              "       'ProductName_Car Plus', 'ProductName_Car Vintage',\n",
              "       'ProductName_CarFlex', 'ProductName_CarSafe',\n",
              "       'ProductName_Customized Motor', 'ProductName_Motor Cycle',\n",
              "       'ProductName_Muuve'],\n",
              "      dtype='object', length=547)"
            ]
          },
          "metadata": {
            "tags": []
          },
          "execution_count": 122
        }
      ]
    },
    {
      "cell_type": "code",
      "metadata": {
        "colab": {
          "base_uri": "https://localhost:8080/"
        },
        "id": "glxm-BhEx7Rf",
        "outputId": "0d11cb29-d006-4969-fa3a-51fc06c011ea"
      },
      "source": [
        "all_data.target"
      ],
      "execution_count": null,
      "outputs": [
        {
          "output_type": "execute_result",
          "data": {
            "text/plain": [
              "0        0.0\n",
              "1        1.0\n",
              "2        0.0\n",
              "3        0.0\n",
              "4        1.0\n",
              "        ... \n",
              "17251    NaN\n",
              "17252    NaN\n",
              "17253    NaN\n",
              "17254    NaN\n",
              "17255    NaN\n",
              "Name: target, Length: 17256, dtype: float64"
            ]
          },
          "metadata": {
            "tags": []
          },
          "execution_count": 123
        }
      ]
    },
    {
      "cell_type": "markdown",
      "metadata": {
        "id": "Ct9JFpjHJC59"
      },
      "source": [
        "Training and making predictions\n",
        "\n",
        "Tips:\n",
        "\n",
        "\n",
        "*   Is lgbm the best model for this challenge\n",
        "*   Parameter tuning\n",
        "\n",
        "     * Grid Search, random search, perhaps bayesian search works better...\n",
        "\n",
        "\n",
        "\n",
        "\n",
        "\n"
      ]
    },
    {
      "cell_type": "code",
      "metadata": {
        "colab": {
          "base_uri": "https://localhost:8080/"
        },
        "id": "b2J--lbvShv6",
        "outputId": "5145c049-b465-4919-c08a-a41d068f8fb1"
      },
      "source": [
        "train_df.target.isnull().sum()"
      ],
      "execution_count": null,
      "outputs": [
        {
          "output_type": "execute_result",
          "data": {
            "text/plain": [
              "0"
            ]
          },
          "metadata": {
            "tags": []
          },
          "execution_count": 124
        }
      ]
    },
    {
      "cell_type": "code",
      "metadata": {
        "colab": {
          "base_uri": "https://localhost:8080/",
          "height": 296
        },
        "id": "DqbNHGdOTZyr",
        "outputId": "47a89d57-95c4-4910-cdce-039a72bbed70"
      },
      "source": [
        "sns.countplot(train_df.target)"
      ],
      "execution_count": null,
      "outputs": [
        {
          "output_type": "execute_result",
          "data": {
            "text/plain": [
              "<matplotlib.axes._subplots.AxesSubplot at 0x7f57f87e7a10>"
            ]
          },
          "metadata": {
            "tags": []
          },
          "execution_count": 125
        },
        {
          "output_type": "display_data",
          "data": {
            "image/png": "[encoded data removed]",
            "text/plain": [
              "<Figure size 432x288 with 1 Axes>"
            ]
          },
          "metadata": {
            "tags": [],
            "needs_background": "light"
          }
        }
      ]
    },
    {
      "cell_type": "code",
      "metadata": {
        "colab": {
          "base_uri": "https://localhost:8080/"
        },
        "id": "tnXq06tQUVxn",
        "outputId": "2117c735-5248-4a8a-da0e-a998f0a5b93c"
      },
      "source": [
        "test_df.isna().sum().sum()"
      ],
      "execution_count": null,
      "outputs": [
        {
          "output_type": "execute_result",
          "data": {
            "text/plain": [
              "5177"
            ]
          },
          "metadata": {
            "tags": []
          },
          "execution_count": 126
        }
      ]
    },
    {
      "cell_type": "code",
      "metadata": {
        "id": "frQZeVo1UzOk"
      },
      "source": [
        "train_df.target = train_df.target.fillna(1.0)"
      ],
      "execution_count": null,
      "outputs": []
    },
    {
      "cell_type": "code",
      "metadata": {
        "colab": {
          "base_uri": "https://localhost:8080/"
        },
        "id": "GaDRQeNXVIx0",
        "outputId": "b1c45842-ddae-4118-fd69-3e19033e7b43"
      },
      "source": [
        "train_df.isna().sum().sum()"
      ],
      "execution_count": null,
      "outputs": [
        {
          "output_type": "execute_result",
          "data": {
            "text/plain": [
              "0"
            ]
          },
          "metadata": {
            "tags": []
          },
          "execution_count": 128
        }
      ]
    },
    {
      "cell_type": "code",
      "metadata": {
        "colab": {
          "base_uri": "https://localhost:8080/"
        },
        "id": "Bwre1nVTT3T7",
        "outputId": "da629429-9091-494d-ac7b-0251806d807b"
      },
      "source": [
        "train_df.shape"
      ],
      "execution_count": null,
      "outputs": [
        {
          "output_type": "execute_result",
          "data": {
            "text/plain": [
              "(12079, 547)"
            ]
          },
          "metadata": {
            "tags": []
          },
          "execution_count": 129
        }
      ]
    },
    {
      "cell_type": "code",
      "metadata": {
        "colab": {
          "base_uri": "https://localhost:8080/"
        },
        "id": "Avm3nJ9gUBCm",
        "outputId": "56d5602b-e85c-42e3-e453-edd691585d05"
      },
      "source": [
        "train_df.Age.shape"
      ],
      "execution_count": null,
      "outputs": [
        {
          "output_type": "execute_result",
          "data": {
            "text/plain": [
              "(12079,)"
            ]
          },
          "metadata": {
            "tags": []
          },
          "execution_count": 130
        }
      ]
    },
    {
      "cell_type": "code",
      "metadata": {
        "colab": {
          "base_uri": "https://localhost:8080/"
        },
        "id": "Syp-HjFHUEXN",
        "outputId": "2f6c3b73-0961-47b7-aadc-395f1c52fc82"
      },
      "source": [
        "train_df.target.shape"
      ],
      "execution_count": null,
      "outputs": [
        {
          "output_type": "execute_result",
          "data": {
            "text/plain": [
              "(12079,)"
            ]
          },
          "metadata": {
            "tags": []
          },
          "execution_count": 131
        }
      ]
    },
    {
      "cell_type": "markdown",
      "metadata": {
        "id": "3Ht3hVTNVosp"
      },
      "source": [
        "# normalizing the dataset"
      ]
    },
    {
      "cell_type": "code",
      "metadata": {
        "id": "RydAR6XdVrwA"
      },
      "source": [
        ""
      ],
      "execution_count": null,
      "outputs": []
    },
    {
      "cell_type": "code",
      "metadata": {
        "colab": {
          "base_uri": "https://localhost:8080/"
        },
        "id": "8pSbhSAnJAGu",
        "outputId": "81fea9dc-78d2-4ab4-888b-805f66db587f"
      },
      "source": [
        "# Select main columns to be used in training\n",
        "main_cols = all_data.columns.difference(date_cols+['ID', 'target', 'Duration'])\n",
        "X = train_df[main_cols]\n",
        "y = train_df.target \n",
        "\n",
        "# Split data into train and test sets\n",
        "X_train, X_test, y_train, y_test = train_test_split(X,y,test_size=0.3, random_state=42) \n",
        "\n",
        "# normalizing the dataset\n",
        "from sklearn.preprocessing import MinMaxScaler\n",
        "norm = MinMaxScaler()\n",
        "\n",
        "X_train = norm.fit_transform(X_train)\n",
        "X_test = norm.transform(X_test)\n",
        "\n",
        "# Train model\n",
        "model = LGBMClassifier()\n",
        "model.fit(X_train, y_train)\n",
        "\n",
        "# Make predictions\n",
        "y_pred = model.predict(X_test)\n",
        "\n",
        "# Check the fi score of the model\n",
        "print(f'F1 score on the X_test is: {f1_score(y_test, y_pred)}')"
      ],
      "execution_count": null,
      "outputs": [
        {
          "output_type": "stream",
          "text": [
            "F1 score on the X_test is: 0.19217081850533807\n"
          ],
          "name": "stdout"
        }
      ]
    },
    {
      "cell_type": "code",
      "metadata": {
        "id": "R6M08nG4pYKJ"
      },
      "source": [
        ""
      ],
      "execution_count": null,
      "outputs": []
    },
    {
      "cell_type": "code",
      "metadata": {
        "id": "zkRwQJBipVad"
      },
      "source": [
        ""
      ],
      "execution_count": null,
      "outputs": []
    },
    {
      "cell_type": "code",
      "metadata": {
        "id": "mDLTVKUwC-Oz"
      },
      "source": [
        "from sklearn.metrics import accuracy_score, confusion_matrix, precision_score, recall_score, f1_score \n"
      ],
      "execution_count": null,
      "outputs": []
    },
    {
      "cell_type": "code",
      "metadata": {
        "colab": {
          "base_uri": "https://localhost:8080/"
        },
        "id": "lbR951PQFa1P",
        "outputId": "f3ab9591-bbb0-4dc8-869b-87ddd44ef212"
      },
      "source": [
        "# dealing with the imbalanced data\n",
        "from sklearn.ensemble import RandomForestClassifier\n",
        "\n",
        "rfc = RandomForestClassifier()\n",
        "rfc.fit(X_train, y_train)\n"
      ],
      "execution_count": null,
      "outputs": [
        {
          "output_type": "execute_result",
          "data": {
            "text/plain": [
              "RandomForestClassifier(bootstrap=True, ccp_alpha=0.0, class_weight=None,\n",
              "                       criterion='gini', max_depth=None, max_features='auto',\n",
              "                       max_leaf_nodes=None, max_samples=None,\n",
              "                       min_impurity_decrease=0.0, min_impurity_split=None,\n",
              "                       min_samples_leaf=1, min_samples_split=2,\n",
              "                       min_weight_fraction_leaf=0.0, n_estimators=100,\n",
              "                       n_jobs=None, oob_score=False, random_state=None,\n",
              "                       verbose=0, warm_start=False)"
            ]
          },
          "metadata": {
            "tags": []
          },
          "execution_count": 134
        }
      ]
    },
    {
      "cell_type": "code",
      "metadata": {
        "id": "JVb-Sb14G5AN"
      },
      "source": [
        "rfc_pred = rfc.predict(X_test)"
      ],
      "execution_count": null,
      "outputs": []
    },
    {
      "cell_type": "code",
      "metadata": {
        "id": "Fe66Q6jYvM6q"
      },
      "source": [
        "# xgboost\n",
        "from xgboost import XGBClassifier\n",
        "\n",
        "xg = XGBClassifier()\n",
        "xg.fit(X_train, y_train)\n",
        "xg_pred =  xg.predict(X_test)\n"
      ],
      "execution_count": null,
      "outputs": []
    },
    {
      "cell_type": "code",
      "metadata": {
        "id": "nAFR5Jelv50f"
      },
      "source": [
        "# xgboost\n",
        "from sklearn.neighbors import KNeighborsClassifier as KNN\n",
        "\n",
        "\n",
        "knn = KNN()\n",
        "knn.fit(X_train, y_train)\n",
        "knn_pred =  knn.predict(X_test)\n"
      ],
      "execution_count": null,
      "outputs": []
    },
    {
      "cell_type": "code",
      "metadata": {
        "id": "eANhGJrf0xOd"
      },
      "source": [
        ""
      ],
      "execution_count": null,
      "outputs": []
    },
    {
      "cell_type": "code",
      "metadata": {
        "colab": {
          "base_uri": "https://localhost:8080/",
          "height": 204
        },
        "id": "h_zszrF90f7p",
        "outputId": "bf163ae3-b39e-4d69-b078-0e0d04383e89"
      },
      "source": [
        "results = pd.DataFrame({\n",
        "    'Model': ['LightGBM', 'RandomForest', 'XGBoost', 'KNN'],\n",
        "    'Accuracy Score': [accuracy_score(y_test, y_pred), accuracy_score(y_test, rfc_pred), \n",
        "                       accuracy_score(y_test, xg_pred), accuracy_score(y_test, knn_pred)],\n",
        "    'Precision': [precision_score(y_test, y_pred), precision_score(y_test, rfc_pred), \n",
        "                  precision_score(y_test, xg_pred), precision_score(y_test, knn_pred) ],\n",
        "    'Recall': [recall_score(y_test, y_pred), recall_score(y_test, rfc_pred),\n",
        "               recall_score(y_test, xg_pred), recall_score(y_test, knn_pred)],\n",
        "    'F1-score': [f1_score(y_test, y_pred), f1_score(y_test, rfc_pred),\n",
        "                 f1_score(y_test, xg_pred), f1_score(y_test, knn_pred)]\n",
        "    \n",
        "    \n",
        "})\n",
        "results_df = results.sort_values(by='F1-score', ascending=False)\n",
        "results_df = results.set_index('Model')\n",
        "results_df"
      ],
      "execution_count": null,
      "outputs": [
        {
          "output_type": "execute_result",
          "data": {
            "text/html": [
              "<div>\n",
              "<style scoped>\n",
              "    .dataframe tbody tr th:only-of-type {\n",
              "        vertical-align: middle;\n",
              "    }\n",
              "\n",
              "    .dataframe tbody tr th {\n",
              "        vertical-align: top;\n",
              "    }\n",
              "\n",
              "    .dataframe thead th {\n",
              "        text-align: right;\n",
              "    }\n",
              "</style>\n",
              "<table border=\"1\" class=\"dataframe\">\n",
              "  <thead>\n",
              "    <tr style=\"text-align: right;\">\n",
              "      <th></th>\n",
              "      <th>Accuracy Score</th>\n",
              "      <th>Precision</th>\n",
              "      <th>Recall</th>\n",
              "      <th>F1-score</th>\n",
              "    </tr>\n",
              "    <tr>\n",
              "      <th>Model</th>\n",
              "      <th></th>\n",
              "      <th></th>\n",
              "      <th></th>\n",
              "      <th></th>\n",
              "    </tr>\n",
              "  </thead>\n",
              "  <tbody>\n",
              "    <tr>\n",
              "      <th>LightGBM</th>\n",
              "      <td>0.874724</td>\n",
              "      <td>0.442623</td>\n",
              "      <td>0.122727</td>\n",
              "      <td>0.192171</td>\n",
              "    </tr>\n",
              "    <tr>\n",
              "      <th>RandomForest</th>\n",
              "      <td>0.850442</td>\n",
              "      <td>0.280172</td>\n",
              "      <td>0.147727</td>\n",
              "      <td>0.193452</td>\n",
              "    </tr>\n",
              "    <tr>\n",
              "      <th>XGBoost</th>\n",
              "      <td>0.881071</td>\n",
              "      <td>0.680000</td>\n",
              "      <td>0.038636</td>\n",
              "      <td>0.073118</td>\n",
              "    </tr>\n",
              "    <tr>\n",
              "      <th>KNN</th>\n",
              "      <td>0.865894</td>\n",
              "      <td>0.375000</td>\n",
              "      <td>0.156818</td>\n",
              "      <td>0.221154</td>\n",
              "    </tr>\n",
              "  </tbody>\n",
              "</table>\n",
              "</div>"
            ],
            "text/plain": [
              "              Accuracy Score  Precision    Recall  F1-score\n",
              "Model                                                      \n",
              "LightGBM            0.874724   0.442623  0.122727  0.192171\n",
              "RandomForest        0.850442   0.280172  0.147727  0.193452\n",
              "XGBoost             0.881071   0.680000  0.038636  0.073118\n",
              "KNN                 0.865894   0.375000  0.156818  0.221154"
            ]
          },
          "metadata": {
            "tags": []
          },
          "execution_count": 138
        }
      ]
    },
    {
      "cell_type": "code",
      "metadata": {
        "id": "dn-9NObz6rd6"
      },
      "source": [
        "# random search\n",
        "#print(\"Params that are currently in use\")\n",
        "#rfc.get_params()"
      ],
      "execution_count": null,
      "outputs": []
    },
    {
      "cell_type": "code",
      "metadata": {
        "id": "GlOP3ysuHKOk"
      },
      "source": [
        "# from sklearn.model_selection import RandomizedSearchCV\n",
        "# # Number of trees in rndom forest\n",
        "# n_estimators = [int(x) for x in np.linspace(start = 200, stop = 2000, num = 10)]\n",
        "# # Number of features to consider at every split\n",
        "# max_features = ['auto', 'sqrt']\n",
        "# # Maximum number of levels in tree\n",
        "# max_depth = [int(x) for (x)in np.linspace(10, 110, num = 11)]\n",
        "# max_depth.append(None)\n",
        "# # Minimum number of samples required to split a node\n",
        "# min_samples_split = [2, 5, 10]\n",
        "# # Minimum number of samples required at each leaf node\n",
        "# min_samples_leaf = [1, 2, 4]\n",
        "# # Method of selecting samples for training each tree\n",
        "# bootstrap = [True, False]\n",
        "# # Create the random Grid  \n",
        "# random_grid = {'n_estimators': n_estimators,\n",
        "#                'max_features': max_features,\n",
        "#                'max_depth': max_depth,\n",
        "#                'min_samples_split': min_samples_split,\n",
        "#                'min_samples_leaf': min_samples_leaf,\n",
        "#                'bootstrap': bootstrap}\n",
        "\n",
        "# random_grid"
      ],
      "execution_count": null,
      "outputs": []
    },
    {
      "cell_type": "code",
      "metadata": {
        "id": "CqCZZMB4KcCw"
      },
      "source": [
        "# # Use the random grid to search for best hyperparameters\n",
        "# # First create the base model to tune\n",
        "# rf = RandomForestClassifier()\n",
        "# # Random search of parameters, using 3 fold cross validation, \n",
        "# # search across 100 different combinations, and use all available cores\n",
        "# rf_random = RandomizedSearchCV(estimator = rf, param_distributions = random_grid, n_iter = 100, cv = 3, verbose=2, random_state=42, n_jobs = -1)\n",
        "# # Fit the random search model\n",
        "# rf_random.fit(X_train, y_train)"
      ],
      "execution_count": null,
      "outputs": []
    },
    {
      "cell_type": "code",
      "metadata": {
        "id": "m1Nm22m2XZtQ"
      },
      "source": [
        "# rf_random.best_params_"
      ],
      "execution_count": null,
      "outputs": []
    },
    {
      "cell_type": "code",
      "metadata": {
        "id": "Bbu1WKlJXjJb"
      },
      "source": [
        "# rfc_model = RandomForestClassifier(bootstrap= True, max_depth= None, max_features= 'auto',\n",
        "#                                   min_samples_leaf= 2, min_samples_split= 2, n_estimators= 1800)"
      ],
      "execution_count": null,
      "outputs": []
    },
    {
      "cell_type": "code",
      "metadata": {
        "id": "uTdnneNzY8nw"
      },
      "source": [
        "# rfc_model.fit(X_train, y_train)"
      ],
      "execution_count": null,
      "outputs": []
    },
    {
      "cell_type": "code",
      "metadata": {
        "id": "MxJyRojVZBvw"
      },
      "source": [
        "# pred = rfc_model.predict(X_test)"
      ],
      "execution_count": null,
      "outputs": []
    },
    {
      "cell_type": "code",
      "metadata": {
        "id": "wWJBl3YqbPTG"
      },
      "source": [
        "rfc_model = RandomForestClassifier(class_weight='balanced')\n",
        "rfc_model.fit(X_train, y_train)\n",
        "pred = rfc_model.predict(X_test)"
      ],
      "execution_count": null,
      "outputs": []
    },
    {
      "cell_type": "code",
      "metadata": {
        "colab": {
          "base_uri": "https://localhost:8080/"
        },
        "id": "MurJRLV0ZTZN",
        "outputId": "a7ce0500-7e25-4e7e-b342-4222ba6dc77b"
      },
      "source": [
        "print('Accuracy', accuracy_score(pred, y_test))\n",
        "print('f1-score', f1_score(pred, y_test))\n",
        "print('recall', recall_score(pred, y_test))\n",
        "print('precision', precision_score(pred, y_test))"
      ],
      "execution_count": null,
      "outputs": [
        {
          "output_type": "stream",
          "text": [
            "Accuracy 0.852924944812362\n",
            "f1-score 0.24611032531824611\n",
            "recall 0.3258426966292135\n",
            "precision 0.19772727272727272\n"
          ],
          "name": "stdout"
        }
      ]
    },
    {
      "cell_type": "markdown",
      "metadata": {
        "id": "bAW-uShSLReo"
      },
      "source": [
        "# Making predictions of the test set and creating  submission file\n"
      ]
    },
    {
      "cell_type": "code",
      "metadata": {
        "colab": {
          "base_uri": "https://localhost:8080/"
        },
        "id": "nAzf1fflrUzy",
        "outputId": "dab81036-71f7-43ea-a3dd-649c3ee37d16"
      },
      "source": [
        "test.shape"
      ],
      "execution_count": null,
      "outputs": [
        {
          "output_type": "execute_result",
          "data": {
            "text/plain": [
              "(5177, 13)"
            ]
          },
          "metadata": {
            "tags": []
          },
          "execution_count": 148
        }
      ]
    },
    {
      "cell_type": "code",
      "metadata": {
        "colab": {
          "base_uri": "https://localhost:8080/"
        },
        "id": "JHT_JlPqrcfS",
        "outputId": "c1ac4a37-93a6-4941-8b68-52a58dcabbc7"
      },
      "source": [
        "test_df.shape"
      ],
      "execution_count": null,
      "outputs": [
        {
          "output_type": "execute_result",
          "data": {
            "text/plain": [
              "(5177, 547)"
            ]
          },
          "metadata": {
            "tags": []
          },
          "execution_count": 149
        }
      ]
    },
    {
      "cell_type": "code",
      "metadata": {
        "colab": {
          "base_uri": "https://localhost:8080/",
          "height": 282
        },
        "id": "xIynYHgLLNHK",
        "outputId": "d1ff3524-6252-47b8-e859-675b8f8d3c26"
      },
      "source": [
        "# Make prediction on the test set\n",
        "test_df = test_df[main_cols]\n",
        "predictions = rfc_model.predict(test_df)\n",
        "\n",
        "# Create a submission file\n",
        "sub_file = pd.DataFrame({\"ID\":test.ID, \"target\":predictions})\n",
        "sub_file.predictions = predictions\n",
        "\n",
        "# Check the distribution of your predictions\n",
        "sns.countplot(sub_file.predictions)\n"
      ],
      "execution_count": null,
      "outputs": [
        {
          "output_type": "execute_result",
          "data": {
            "text/plain": [
              "<matplotlib.axes._subplots.AxesSubplot at 0x7f57eb6e8850>"
            ]
          },
          "metadata": {
            "tags": []
          },
          "execution_count": 150
        },
        {
          "output_type": "display_data",
          "data": {
            "image/png": "[encoded data removed]",
            "text/plain": [
              "<Figure size 432x288 with 1 Axes>"
            ]
          },
          "metadata": {
            "tags": [],
            "needs_background": "light"
          }
        }
      ]
    },
    {
      "cell_type": "code",
      "metadata": {
        "id": "ZIbB7pajMEBl"
      },
      "source": [
        "# create a csv file to submit to zindi\n",
        "sub_file.to_csv('Baseline6.csv', index = False)"
      ],
      "execution_count": null,
      "outputs": []
    },
    {
      "cell_type": "code",
      "metadata": {
        "id": "Ia7sjmatMTLG"
      },
      "source": [
        ""
      ],
      "execution_count": null,
      "outputs": []
    }
  ]
}